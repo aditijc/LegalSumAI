{
  "nbformat": 4,
  "nbformat_minor": 0,
  "metadata": {
    "colab": {
      "provenance": []
    },
    "kernelspec": {
      "name": "python3",
      "display_name": "Python 3"
    },
    "language_info": {
      "name": "python"
    }
  },
  "cells": [
    {
      "cell_type": "markdown",
      "source": [
        "## Environment Setup\n"
      ],
      "metadata": {
        "id": "QnBx9kuY1j_1"
      }
    },
    {
      "cell_type": "code",
      "execution_count": 178,
      "metadata": {
        "id": "FXT_mRWCj3_B",
        "colab": {
          "base_uri": "https://localhost:8080/"
        },
        "outputId": "8345c7b4-ec29-47ee-de56-db17d965c7e6"
      },
      "outputs": [
        {
          "output_type": "stream",
          "name": "stdout",
          "text": [
            "Requirement already satisfied: openai in /usr/local/lib/python3.10/dist-packages (1.30.1)\n",
            "Requirement already satisfied: anyio<5,>=3.5.0 in /usr/local/lib/python3.10/dist-packages (from openai) (3.7.1)\n",
            "Requirement already satisfied: distro<2,>=1.7.0 in /usr/lib/python3/dist-packages (from openai) (1.7.0)\n",
            "Requirement already satisfied: httpx<1,>=0.23.0 in /usr/local/lib/python3.10/dist-packages (from openai) (0.27.0)\n",
            "Requirement already satisfied: pydantic<3,>=1.9.0 in /usr/local/lib/python3.10/dist-packages (from openai) (2.7.1)\n",
            "Requirement already satisfied: sniffio in /usr/local/lib/python3.10/dist-packages (from openai) (1.3.1)\n",
            "Requirement already satisfied: tqdm>4 in /usr/local/lib/python3.10/dist-packages (from openai) (4.66.4)\n",
            "Requirement already satisfied: typing-extensions<5,>=4.7 in /usr/local/lib/python3.10/dist-packages (from openai) (4.11.0)\n",
            "Requirement already satisfied: idna>=2.8 in /usr/local/lib/python3.10/dist-packages (from anyio<5,>=3.5.0->openai) (3.7)\n",
            "Requirement already satisfied: exceptiongroup in /usr/local/lib/python3.10/dist-packages (from anyio<5,>=3.5.0->openai) (1.2.1)\n",
            "Requirement already satisfied: certifi in /usr/local/lib/python3.10/dist-packages (from httpx<1,>=0.23.0->openai) (2024.2.2)\n",
            "Requirement already satisfied: httpcore==1.* in /usr/local/lib/python3.10/dist-packages (from httpx<1,>=0.23.0->openai) (1.0.5)\n",
            "Requirement already satisfied: h11<0.15,>=0.13 in /usr/local/lib/python3.10/dist-packages (from httpcore==1.*->httpx<1,>=0.23.0->openai) (0.14.0)\n",
            "Requirement already satisfied: annotated-types>=0.4.0 in /usr/local/lib/python3.10/dist-packages (from pydantic<3,>=1.9.0->openai) (0.6.0)\n",
            "Requirement already satisfied: pydantic-core==2.18.2 in /usr/local/lib/python3.10/dist-packages (from pydantic<3,>=1.9.0->openai) (2.18.2)\n",
            "Requirement already satisfied: datasets in /usr/local/lib/python3.10/dist-packages (2.19.1)\n",
            "Requirement already satisfied: filelock in /usr/local/lib/python3.10/dist-packages (from datasets) (3.14.0)\n",
            "Requirement already satisfied: numpy>=1.17 in /usr/local/lib/python3.10/dist-packages (from datasets) (1.25.2)\n",
            "Requirement already satisfied: pyarrow>=12.0.0 in /usr/local/lib/python3.10/dist-packages (from datasets) (14.0.2)\n",
            "Requirement already satisfied: pyarrow-hotfix in /usr/local/lib/python3.10/dist-packages (from datasets) (0.6)\n",
            "Requirement already satisfied: dill<0.3.9,>=0.3.0 in /usr/local/lib/python3.10/dist-packages (from datasets) (0.3.8)\n",
            "Requirement already satisfied: pandas in /usr/local/lib/python3.10/dist-packages (from datasets) (2.0.3)\n",
            "Requirement already satisfied: requests>=2.19.0 in /usr/local/lib/python3.10/dist-packages (from datasets) (2.31.0)\n",
            "Requirement already satisfied: tqdm>=4.62.1 in /usr/local/lib/python3.10/dist-packages (from datasets) (4.66.4)\n",
            "Requirement already satisfied: xxhash in /usr/local/lib/python3.10/dist-packages (from datasets) (3.4.1)\n",
            "Requirement already satisfied: multiprocess in /usr/local/lib/python3.10/dist-packages (from datasets) (0.70.16)\n",
            "Requirement already satisfied: fsspec[http]<=2024.3.1,>=2023.1.0 in /usr/local/lib/python3.10/dist-packages (from datasets) (2023.6.0)\n",
            "Requirement already satisfied: aiohttp in /usr/local/lib/python3.10/dist-packages (from datasets) (3.9.5)\n",
            "Requirement already satisfied: huggingface-hub>=0.21.2 in /usr/local/lib/python3.10/dist-packages (from datasets) (0.23.0)\n",
            "Requirement already satisfied: packaging in /usr/local/lib/python3.10/dist-packages (from datasets) (24.0)\n",
            "Requirement already satisfied: pyyaml>=5.1 in /usr/local/lib/python3.10/dist-packages (from datasets) (6.0.1)\n",
            "Requirement already satisfied: aiosignal>=1.1.2 in /usr/local/lib/python3.10/dist-packages (from aiohttp->datasets) (1.3.1)\n",
            "Requirement already satisfied: attrs>=17.3.0 in /usr/local/lib/python3.10/dist-packages (from aiohttp->datasets) (23.2.0)\n",
            "Requirement already satisfied: frozenlist>=1.1.1 in /usr/local/lib/python3.10/dist-packages (from aiohttp->datasets) (1.4.1)\n",
            "Requirement already satisfied: multidict<7.0,>=4.5 in /usr/local/lib/python3.10/dist-packages (from aiohttp->datasets) (6.0.5)\n",
            "Requirement already satisfied: yarl<2.0,>=1.0 in /usr/local/lib/python3.10/dist-packages (from aiohttp->datasets) (1.9.4)\n",
            "Requirement already satisfied: async-timeout<5.0,>=4.0 in /usr/local/lib/python3.10/dist-packages (from aiohttp->datasets) (4.0.3)\n",
            "Requirement already satisfied: typing-extensions>=3.7.4.3 in /usr/local/lib/python3.10/dist-packages (from huggingface-hub>=0.21.2->datasets) (4.11.0)\n",
            "Requirement already satisfied: charset-normalizer<4,>=2 in /usr/local/lib/python3.10/dist-packages (from requests>=2.19.0->datasets) (3.3.2)\n",
            "Requirement already satisfied: idna<4,>=2.5 in /usr/local/lib/python3.10/dist-packages (from requests>=2.19.0->datasets) (3.7)\n",
            "Requirement already satisfied: urllib3<3,>=1.21.1 in /usr/local/lib/python3.10/dist-packages (from requests>=2.19.0->datasets) (2.0.7)\n",
            "Requirement already satisfied: certifi>=2017.4.17 in /usr/local/lib/python3.10/dist-packages (from requests>=2.19.0->datasets) (2024.2.2)\n",
            "Requirement already satisfied: python-dateutil>=2.8.2 in /usr/local/lib/python3.10/dist-packages (from pandas->datasets) (2.8.2)\n",
            "Requirement already satisfied: pytz>=2020.1 in /usr/local/lib/python3.10/dist-packages (from pandas->datasets) (2023.4)\n",
            "Requirement already satisfied: tzdata>=2022.1 in /usr/local/lib/python3.10/dist-packages (from pandas->datasets) (2024.1)\n",
            "Requirement already satisfied: six>=1.5 in /usr/local/lib/python3.10/dist-packages (from python-dateutil>=2.8.2->pandas->datasets) (1.16.0)\n"
          ]
        }
      ],
      "source": [
        "!pip install openai\n",
        "!pip install datasets"
      ]
    },
    {
      "cell_type": "code",
      "source": [
        "import os\n",
        "import json\n",
        "import openai\n",
        "from openai import OpenAI\n",
        "import pandas\n",
        "\n",
        "import re\n",
        "\n",
        "from IPython import get_ipython\n",
        "from IPython.utils.capture import capture_output"
      ],
      "metadata": {
        "id": "c5OTyh9Olj2O"
      },
      "execution_count": 179,
      "outputs": []
    },
    {
      "cell_type": "code",
      "source": [
        "from google.colab import drive\n",
        "drive.mount('/content/drive')\n",
        "\n",
        "\n",
        "%cd /content/drive/MyDrive/CS 159 Project"
      ],
      "metadata": {
        "id": "j1QYBPyomydv",
        "colab": {
          "base_uri": "https://localhost:8080/"
        },
        "outputId": "2fa05c19-223f-4fab-95cf-8cfbf8b42cad"
      },
      "execution_count": 180,
      "outputs": [
        {
          "output_type": "stream",
          "name": "stdout",
          "text": [
            "Drive already mounted at /content/drive; to attempt to forcibly remount, call drive.mount(\"/content/drive\", force_remount=True).\n",
            "/content/drive/.shortcut-targets-by-id/1LeLbrNZayyv5i4FVOL44lq8EKgwzSuZl/CS 159 Project\n"
          ]
        }
      ]
    },
    {
      "cell_type": "code",
      "source": [
        "YOUR_KEY = \"sk-proj-xoQeTl5vSUoRWpzHyg5aT3BlbkFJpE2JAIcnzhQznKYKQy89\"\n",
        "client = OpenAI(api_key = YOUR_KEY)"
      ],
      "metadata": {
        "id": "g9cV2QeyloCe"
      },
      "execution_count": 181,
      "outputs": []
    },
    {
      "cell_type": "code",
      "source": [
        "def get_openai_response(prompt):\n",
        "    response = client.chat.completions.create(\n",
        "            model = \"gpt-3.5-turbo\",\n",
        "            messages=[\n",
        "                {\"role\": \"system\", \"content\": \"You are a highly intelligent Legal AI trained to solve reasoning problems and learn iteratively from feedback.\"},\n",
        "                {\"role\": \"user\", \"content\": prompt}\n",
        "            ]\n",
        "        )\n",
        "    return response.choices[0].message.content"
      ],
      "metadata": {
        "id": "mxXm5t-2lqvd"
      },
      "execution_count": 182,
      "outputs": []
    },
    {
      "cell_type": "markdown",
      "source": [
        "## Load Multi_Lexsum Dataset"
      ],
      "metadata": {
        "id": "fysnYtQ5RhHC"
      }
    },
    {
      "cell_type": "code",
      "source": [
        "from datasets import load_dataset\n",
        "\n",
        "multi_lexsum = load_dataset(\"allenai/multi_lexsum\", name=\"v20220616\")"
      ],
      "metadata": {
        "id": "3vxj87mXRkAZ"
      },
      "execution_count": 183,
      "outputs": []
    },
    {
      "cell_type": "code",
      "source": [
        "multi_lexsum"
      ],
      "metadata": {
        "id": "YJn8K6TJIUkJ",
        "colab": {
          "base_uri": "https://localhost:8080/"
        },
        "outputId": "6bea105b-d076-4c43-f383-2ec03b0d8d06"
      },
      "execution_count": 184,
      "outputs": [
        {
          "output_type": "execute_result",
          "data": {
            "text/plain": [
              "DatasetDict({\n",
              "    train: Dataset({\n",
              "        features: ['id', 'sources', 'summary/long', 'summary/short', 'summary/tiny'],\n",
              "        num_rows: 3177\n",
              "    })\n",
              "    validation: Dataset({\n",
              "        features: ['id', 'sources', 'summary/long', 'summary/short', 'summary/tiny'],\n",
              "        num_rows: 454\n",
              "    })\n",
              "    test: Dataset({\n",
              "        features: ['id', 'sources', 'summary/long', 'summary/short', 'summary/tiny'],\n",
              "        num_rows: 908\n",
              "    })\n",
              "})"
            ]
          },
          "metadata": {},
          "execution_count": 184
        }
      ]
    },
    {
      "cell_type": "code",
      "source": [
        "train = multi_lexsum[\"test\"] # The first instance of the dev set"
      ],
      "metadata": {
        "id": "SUAQxBLqSYRH"
      },
      "execution_count": 185,
      "outputs": []
    },
    {
      "cell_type": "markdown",
      "source": [
        "## Methods to Generate, Combine, Save, and Compute Accuracy"
      ],
      "metadata": {
        "id": "uT1T1zyi4ufN"
      }
    },
    {
      "cell_type": "code",
      "source": [
        "def generate_fact_sheet(summary, verbose=True):\n",
        "    prompt = f\"\"\"\n",
        "    Given the following legal case summary, create a detailed fact sheet covering the following categories:\n",
        "    1. Case Information\n",
        "    2. Parties Involved\n",
        "    3. Legal Basis\n",
        "    4. Case Background\n",
        "    5. Court Proceedings\n",
        "    6. Settlement and Agreements\n",
        "    7. Outcome and Impact\n",
        "    8. Miscellaneous\n",
        "\n",
        "    Summary: {summary}\n",
        "\n",
        "    Please provide the fact sheet in a structured format. Output type should\n",
        "    be a JSON object with the following keys: case_info, parties, legal_basis,\n",
        "    case_background, court_proceedings, settlement_and_agreements, outcome_and_impact,\n",
        "    miscellaneous.\n",
        "    Do not have sub categories in the values of the JSON object.\n",
        "    Make the values into string types.\n",
        "\n",
        "    \"\"\"\n",
        "    response = get_openai_response(prompt)\n",
        "\n",
        "    if verbose: print(response)\n",
        "    return response\n"
      ],
      "metadata": {
        "id": "WBaKPQA192Z5"
      },
      "execution_count": 186,
      "outputs": []
    },
    {
      "cell_type": "code",
      "source": [
        "def combine_fact_sheets(responses, verbose=True):\n",
        "    summary = '\\n'.join(responses)\n",
        "    prompt = f\"\"\"\n",
        "    Given the following JSON objects appended together, merge these factsheets\n",
        "    together to create a detailed fact sheet covering the following categories:\n",
        "    1. Case Information\n",
        "    2. Parties Involved\n",
        "    3. Legal Basis\n",
        "    4. Case Background\n",
        "    5. Court Proceedings\n",
        "    6. Settlement and Agreements\n",
        "    7. Outcome and Impact\n",
        "    8. Miscellaneous\n",
        "\n",
        "    Summary: {summary}\n",
        "\n",
        "    Please provide the fact sheet in a structured format. Output type should\n",
        "    be a JSON object with the following keys: case_info, parties, legal_basis,\n",
        "    case_background, court_proceedings, settlement_and_agreements, outcome_and_impact,\n",
        "    miscellaneous.\n",
        "    Do not have sub categories in the values of the JSON object.\n",
        "    Make the values into string types.\n",
        "\n",
        "    \"\"\"\n",
        "    response = get_openai_response(prompt)\n",
        "    if verbose: print(response)\n",
        "    return response"
      ],
      "metadata": {
        "id": "kmWw5zV3MnYM"
      },
      "execution_count": 187,
      "outputs": []
    },
    {
      "cell_type": "code",
      "source": [
        "from sklearn.feature_extraction.text import TfidfVectorizer\n",
        "from sklearn.metrics.pairwise import cosine_similarity\n",
        "import numpy as np\n",
        "\n",
        "def compute_cosine_similarity(sheet1, sheet2, verbose=True):\n",
        "  \"\"\"\n",
        "  Compute the cosine similarity between the source and summary sheets.\n",
        "  source_sheet: string representation of the source sheet\n",
        "  summary_sheet: string representation of the summary sheet\n",
        "  \"\"\"\n",
        "  # Create the TF-IDF vectors\n",
        "  vectorizer = TfidfVectorizer()\n",
        "  tfidf_matrix = vectorizer.fit_transform([sheet1, sheet2])\n",
        "\n",
        "  # Compute the cosine similarity\n",
        "  cosine_sim = cosine_similarity(tfidf_matrix[0:1], tfidf_matrix[1:2])\n",
        "  if verbose: print(f\"Cosine Similarity: {cosine_sim[0][0]}\")\n",
        "  return cosine_sim[0][0]"
      ],
      "metadata": {
        "id": "tcsP1mZ5TAXd"
      },
      "execution_count": 188,
      "outputs": []
    },
    {
      "cell_type": "code",
      "source": [
        "import csv\n",
        "from google.colab import files\n",
        "import os\n",
        "\n",
        "def save_factsheet(response, filename):\n",
        "  if not response.startswith(\"{\"):\n",
        "    response = '\\n'.join(response.split('\\n')[1:-1])\n",
        "  data = json.loads(response)\n",
        "  print(data)\n",
        "  with open(f\"{filename}.csv\", 'w', newline='') as file:\n",
        "      writer = csv.writer(file)\n",
        "      # Write the header\n",
        "      writer.writerow(['Category', 'Details'])\n",
        "      # Write the data\n",
        "      for key, value in data.items():\n",
        "        print(key)\n",
        "        print(value)\n",
        "        writer.writerow([key, value])"
      ],
      "metadata": {
        "id": "-0YQChGQFak4"
      },
      "execution_count": 189,
      "outputs": []
    },
    {
      "cell_type": "markdown",
      "source": [
        "Process a source given its index in the sources and ids lists.\n",
        "1. Generates factsheets for each document in source\n",
        "2. Combines these sheets into a single sheet\n",
        "3. Generates factsheet for the summary (we use long summary for now)\n",
        "4. Compares the source and summary sheets using cosine similarity."
      ],
      "metadata": {
        "id": "c5RqizlS46Ne"
      }
    },
    {
      "cell_type": "code",
      "source": [
        "# train\n",
        "sources = train['sources']\n",
        "ids = train['id']\n",
        "\n",
        "def process_source(idx):\n",
        "  source = sources[idx]\n",
        "  id = ids[idx]\n",
        "  print(f\"Analyzing case {id}\")\n",
        "\n",
        "  # Break source up into segments for processing\n",
        "  print('Generating fact sheet for each document in source...')\n",
        "  source_responses = []\n",
        "  for s in source:\n",
        "    source_responses.append(generate_fact_sheet(s))\n",
        "\n",
        "  # combine source responses\n",
        "  print('Combining source fact sheets...')\n",
        "  source_sheet = combine_fact_sheets(source_responses, verbose=False)\n",
        "  print(source_sheet)\n",
        "\n",
        "  # generate summary sheet\n",
        "  print('Generating summary sheet...')\n",
        "  summary_sheet = generate_fact_sheet(train['summary/long'][idx], verbose=False)\n",
        "  print(summary_sheet)\n",
        "\n",
        "  # compute cosine similarity as accuracy measure\n",
        "  cos_sim = compute_cosine_similarity(source_sheet, summary_sheet, verbose=False)\n",
        "  print(f\"Cosine Similarity: {cos_sim}\")\n",
        "\n",
        "  return source_sheet, summary_sheet, cos_sim"
      ],
      "metadata": {
        "id": "kczURsbvZDUz"
      },
      "execution_count": 190,
      "outputs": []
    },
    {
      "cell_type": "markdown",
      "source": [
        "## Generate Factsheets and metrics for First Two Sources"
      ],
      "metadata": {
        "id": "e8heybQT4buy"
      }
    },
    {
      "cell_type": "code",
      "source": [
        "save_path = '/content/drive/MyDrive/CS 159 Project/factsheet/'"
      ],
      "metadata": {
        "id": "cPnEi8_kb3ns"
      },
      "execution_count": 191,
      "outputs": []
    },
    {
      "cell_type": "code",
      "source": [
        "# specify indices in source to process\n",
        "idx = 0\n",
        "source0, sum0, sim0 = process_source(idx)\n",
        "save_factsheet(source0, save_path + f'{ids[idx]}_source')\n",
        "save_factsheet(sum0, save_path + f'{ids[idx]}_summary')"
      ],
      "metadata": {
        "colab": {
          "base_uri": "https://localhost:8080/"
        },
        "id": "rnaMdmYuVmeM",
        "outputId": "63f6294c-0a57-408d-9a9e-c68568c57ac6"
      },
      "execution_count": 192,
      "outputs": [
        {
          "output_type": "stream",
          "name": "stdout",
          "text": [
            "Analyzing case CJ-AL-0007\n",
            "Generating fact sheet for each document in source...\n",
            "{\n",
            "    \"case_info\": \"Case 2:14-cv-00186-MEF-CSC Document 1 Filed 03/18/14 Page 1 of 24\",\n",
            "    \"parties\": \"Plaintiffs: SHARNALLE MITCHELL, LORENZO BROWN, DEB -RA P. HACKETT, COURTNEY TUBBS, TITO WILLIAMS. Defendant: THE CITY OF MONTGOMERY\",\n",
            "    \"legal_basis\": \"Civil rights action under 42 U.S.C. § 1983, 18 U.S.C. § 1595, and 28 U.S.C. § 2201, based on violations of the Fourth, Sixth, Thirteenth, and Fourteenth Amendments to the United States Constitution.\",\n",
            "    \"case_background\": \"Plaintiffs impoverished and jailed for nonpayment of debts owed to the City of Montgomery from traffic tickets. City policy and practice of incarcerating indigent individuals without an inquiry into their ability to pay or providing alternatives to jail.\",\n",
            "    \"court_proceedings\": \"Plaintiffs seek vindication of rights, compensation, injunctive relief, and declaration of City's conduct as unlawful. Court jurisdiction pursuant to 28 U.S. S. § 1331 and 1343. Venue proper under 28 U.S.C. § 1391.\",\n",
            "    \"settlement_and_agreements\": \"Plaintiffs filed for emergency relief seeking release from jail. City agreed to release, drop emergency petitions, and litigate issues in federal court. Plaintiffs released under specific payment plans.\",\n",
            "    \"outcome_and_impact\": \"Plaintiffs continue to owe debts to the City. City's policies profit from debt collection and cause fear among its poorest residents. Allegations of violations of constitutional rights and discriminatory practices.\",\n",
            "    \"miscellaneous\": \"Declarations of violations include violating due process, equal protection, inadequate counsel, forced labor, harsh debt collection, improper arrest warrants issuance, and improper appeal bond practices. Relief sought includes declaratory judgments, injunctions, compensatory damages, attorneys' fees, and other appropriate relief.\"\n",
            "}\n",
            "```json\n",
            "{\n",
            "    \"case_info\": \"Case No.: 2:14-cv-186-MEF, Preliminary Injunction Order issued on May 1, 2014\",\n",
            "    \"parties\": \"Plaintiffs: Sharnalle Mitchell, Lorenzo Brown, Tito Williams; Defendant: The City of Montgomery\",\n",
            "    \"legal_basis\": \"Plaintiffs claimed violation of their Fourteenth Amendment due process and equal protection rights as outlined in Bearden v. Georgia, 461 U.S. 660 (1983)\",\n",
            "    \"case_background\": \"Plaintiffs were imprisoned or threatened with imprisonment for failing to pay fines without a proper inquiry into their circumstances\",\n",
            "    \"court_proceedings\": \"Court granted a Preliminary Injunction based on Plaintiffs' likelihood of success, threat of irreparable injury, imbalance of harms, and public interest\",\n",
            "    \"settlement_and_agreements\": \"City of Montgomery enjoined from collecting outstanding fines, fees; City to submit a plan on determining ability to pay and alternatives to imprisonment\",\n",
            "    \"outcome_and_impact\": \"Plaintiffs' rights protected by the Preliminary Injunction until a decision on the merits is made; City officials required to attend hearings\",\n",
            "    \"miscellaneous\": \"No security bond required due to low risk of city incurring expenses; Preliminary Injunction Order applies to specified parties and individuals in concert with them\"\n",
            "}\n",
            "```\n",
            "{\n",
            "    \"case_info\": \"Case 2:14-cv-00186-MHT-CSC Document 51 Filed 11/17/14 Page 1 of 2 IN THE DISTRICT COURT OF THE UNITED STATES FOR THE MIDDLE DISTRICT OF ALABAMA, NORTHERN DIVISION\",\n",
            "    \"parties\": \"Plaintiffs: SHARNALLE MITCHELL, LORENZO BROWN, TITO WILLIAMS, COURTNEY TUBBS, TEQUILA BALLARD, WILLIE WILLIAMS, THOMAS ELLIS, GAVIN BULLOCK, KENDRICK MAULL, TAMARA DUDLEY, JERMAINE TYLER, JANET EDWARDS, RISKO MCDANIEL, DEMETRI COLVIN, CARL WILLIAMS, and RAYSHONE WILLIAMS. Defendants: CITY OF MONTGOMERY, HONORABLE LES HAYES, III, HONORABLE MILTON WESTRY, HONORABLE DARRON HENDLEY, and HONORABLE LLORIA JAMES\",\n",
            "    \"legal_basis\": \"Agreement to settle declaratory and injunctive relief claims\",\n",
            "    \"case_background\": \"Plaintiffs allege constitutional violations against City of Montgomery, seeking relief for illegal jailing of indigent residents.\",\n",
            "    \"court_proceedings\": \"Parties reached a Settlement Agreement granting final declaratory and injunctive relief after court representation.\",\n",
            "    \"settlement_and_agreements\": \"Parties agreed to comply with terms set in Settlement Agreement for designated periods.\",\n",
            "    \"outcome_and_impact\": \"Plaintiffs' request for relief resolved subject to court jurisdiction for enforcement of Settlement Agreement.\",\n",
            "    \"miscellaneous\": \"Court directed entry of document as final judgment pursuant to Rule 58 of the Federal Rules of Civil Procedure.\"\n",
            "}\n",
            "```json\n",
            "{\n",
            "    \"case_info\": \"Case No. 2:14-cv-186-MHT\\nFiled with the United States District Court for the Middle District of Alabama\",\n",
            "    \"parties\": \"Plaintiffs: SHARNALLE MITCHELL, et al.\\nDefendants: THE CITY OF MONTGOMERY, et al\",\n",
            "    \"legal_basis\": \"Violation of court order regarding jailing individuals for debts without due process, poverty-based discrimination, and failure to comply with federal and state laws\",\n",
            "    \"case_background\": \"The City of Montgomery operated a debtors' prison system by incarcerating individuals for being unable to pay debts, exploiting their poverty. The court issued preliminary injunctions and orders to cease unconstitutional behavior, leading to negotiations for compliance procedures.\",\n",
            "    \"court_proceedings\": \"Multiple violations occurred after court orders, including a March 13 incident where individuals were fined, threatened with jail, and jailed for inability to pay a $50 fine. Violations led to investigations and admissions by the Defendants.\",\n",
            "    \"settlement_and_agreements\": \"The November 17, 2014 order mandated compliance procedures to prevent jailing for debt, appointing public defenders, conducting indigence hearings, and notifying plaintiffs' counsel of jailings.\",\n",
            "    \"outcome_and_impact\": \"Defendants admitted to willful violations of court orders, including jailing individuals for poverty-related reasons. Further investigations and potential contempt proceedings were discussed.\",\n",
            "    \"miscellaneous\": \"Counsel for Plaintiffs may seek additional discovery to determine violations, and potential civil contempt or criminal contempt proceedings are under consideration.\"\n",
            "}\n",
            "```\n",
            "{\n",
            "    \"case_info\": \"Case: 2:14-cv-186\\nDate Filed: 03/18/2014\\nDate Terminated: 12/12/2014\\nNature of Suit: 440 Civil Rights: Other\\nJurisdiction: Federal Question\",\n",
            "    \n",
            "    \"parties\": \"Plaintiffs: Sharnalle Mitchell, Lorenzo Brown, Courtney Tubbs, Tito Williams, Tequila Ballard, Willie Williams, Thomas Ellis, Gavin Bullock, Kendrick Maull, Tamara Dudley, Jermaine Tyler, Janet Edwards, Risko McDaniel, Demetri Colvin, Carl Williams, Rayshone Williams\\nDefendant: The City of Montgomery\",\n",
            "    \n",
            "    \"legal_basis\": \"42:1983 Civil Rights Act\",\n",
            "    \n",
            "    \"case_background\": \"Civil rights case involving multiple plaintiffs against The City of Montgomery, filed on 03/18/2014, terminated on 12/12/2014.\",\n",
            "    \n",
            "    \"court_proceedings\": \"Numerous motions filed, including Motion for Preliminary Injunction, Status Conferences, Orders related to responses and deadlines, a Status Conference, Mediation Conference, Joint Notices, and Telephone Conferences.\",\n",
            "    \n",
            "    \"settlement_and_agreements\": \"Parties reached a settlement agreement for declaratory and injunctive relief, as reflected in a Joint Motion for Entry of Final Declaratory and Injunctive Relief. Class certification requests and requests for class-wide relief were dismissed with prejudice.\",\n",
            "    \n",
            "    \"outcome_and_impact\": \"Damages claim dismissed, resolution of attorneys' fees issue continued, court retains jurisdiction. Mediation conference scheduled.\",\n",
            "    \n",
            "    \"miscellaneous\": \"Variety of orders issued, including those related to motions, deadlines, jurisdiction, and conferences. Joint notices and stipulations filed by both parties.\"\n",
            "}\n",
            "Combining source fact sheets...\n",
            "```json\n",
            "{\n",
            "    \"case_info\": \"Case 2:14-cv-00186-MEF-CSC Document 1 Filed 03/18/14 Page 1 of 24. Case No.: 2:14-cv-186-MEF, Preliminary Injunction Order issued on May 1, 2014. Case 2:14-cv-00186-MHT-CSC Document 51 Filed 11/17/14 Page 1 of 2 IN THE DISTRICT COURT OF THE UNITED STATES FOR THE MIDDLE DISTRICT OF ALABAMA, NORTHERN DIVISION. Case No. 2:14-cv-186-MHT Filed with the United States District Court for the Middle District of Alabama. Case: 2:14-cv-186 Date Filed: 03/18/2014 Date Terminated: 12/12/2014 Nature of Suit: 440 Civil Rights: Other Jurisdiction: Federal Question\",\n",
            "    \"parties\": \"Plaintiffs: SHARNALLE MITCHELL, LORENZO BROWN, DEB -RA P. HACKETT, COURTNEY TUBBS, TITO WILLIAMS, SHARNALLE MITCHELL, LORENZO BROWN, TITO WILLIAMS, SHARNALLE MITCHELL, et al., SHARNALLE MITCHELL, et al., Sharnalle Mitchell, Lorenzo Brown, Tito Williams, Tequila Ballard, Willie Williams, Thomas Ellis, Gavin Bullock, Kendrick Maull, Tamara Dudley, Jermaine Tyler, Janet Edwards, Risko McDaniel, Demetri Colvin, Carl Williams, Rayshone Williams, Sharnalle Mitchell, Lorenzo Brown, Courtney Tubbs, Tito Williams, Tequila Ballard, Willie Williams, Thomas Ellis, Gavin Bullock, Kendrick Maull, Tamara Dudley, Jermaine Tyler, Janet Edwards, Risko McDaniel, Demetri Colvin, Carl Williams, Rayshone Williams, Sharnalle Mitchell, Lorenzo Brown, Tito Williams, Courtney Tubbs, TEQUILA BALLARD, WILLIE WILLIAMS, THOMAS ELLIS, GAVIN BULLOCK, KENDRICK MAULL, TAMARA DUDLEY, JERMAINE TYLER, JANET EDWARDS, RISKO MCDANIEL, DEMETRI COLVIN, CARL WILLIAMS, and RAYSHONE WILLIAMS. Defendant: THE CITY OF MONTGOMERY, THE CITY OF MONTGOMERY, THE CITY OF MONTGOMERY, The City of Montgomery, THE CITY OF MONTGOMERY, et al\",\n",
            "    \"legal_basis\": \"Civil rights action under 42 U.S.C. § 1983, 18 U.S.C. § 1595, and 28 U.S.C. § 2201, based on violations of the Fourth, Sixth, Thirteenth, and Fourteenth Amendments to the United States Constitution. Plaintiffs claimed violation of their Fourteenth Amendment due process and equal protection rights as outlined in Bearden v. Georgia, 461 U.S. 660 (1983). Agreement to settle declaratory and injunctive relief claims. Violation of court order regarding jailing individuals for debts without due process, poverty-based discrimination, and failure to comply with federal and state laws. 42:1983 Civil Rights Act\",\n",
            "    \"case_background\": \"Plaintiffs impoverished and jailed for nonpayment of debts owed to the City of Montgomery from traffic tickets. City policy and practice of incarcerating indigent individuals without an inquiry into their ability to pay or providing alternatives to jail. Plaintiffs were imprisoned or threatened with imprisonment for failing to pay fines without a proper inquiry into their circumstances. Plaintiffs allege constitutional violations against City of Montgomery, seeking relief for illegal jailing of indigent residents. The City of Montgomery operated a debtors' prison system by incarcerating individuals for being unable to pay debts, exploiting their poverty. The court issued preliminary injunctions and orders to cease unconstitutional behavior, leading to negotiations for compliance procedures.\",\n",
            "    \"court_proceedings\": \"Plaintiffs seek vindication of rights, compensation, injunctive relief, and declaration of City's conduct as unlawful. Court jurisdiction pursuant to 28 U.S. S. § 1331 and 1343. Venue proper under 28 U.S.C. § 1391. Court granted a Preliminary Injunction based on Plaintiffs' likelihood of success, threat of irreparable injury, imbalance of harms, and public interest. Parties reached a Settlement Agreement granting final declaratory and injunctive relief after court representation. Multiple violations occurred after court orders, including a March 13 incident where individuals were fined, threatened with jail, and jailed for inability to pay a $50 fine. Violations led to investigations and admissions by the Defendants. Numerous motions filed, including Motion for Preliminary Injunction, Status Conferences, Orders related to responses and deadlines, a Status Conference, Mediation Conference, Joint Notices, and Telephone Conferences\",\n",
            "    \"settlement_and_agreements\": \"Plaintiffs filed for emergency relief seeking release from jail. City agreed to release, drop emergency petitions, and litigate issues in federal court. Plaintiffs released under specific payment plans. City of Montgomery enjoined from collecting outstanding fines, fees; City to submit a plan on determining ability to pay and alternatives to imprisonment. Parties reached a settlement agreement for declaratory and injunctive relief, as reflected in a Joint Motion for Entry of Final Declaratory and Injunctive Relief. Class certification requests and requests for class-wide relief were dismissed with prejudice. Parties agreed to comply with terms set in Settlement Agreement for designated periods\",\n",
            "    \"outcome_and_impact\": \"Plaintiffs continue to owe debts to the City. City's policies profit from debt collection and cause fear among its poorest residents. Allegations of violations of constitutional rights and discriminatory practices. Plaintiffs' rights protected by the Preliminary Injunction until a decision on the merits is made; City officials required to attend hearings. Defendants admitted to willful violations of court orders, including jailing individuals for poverty-related reasons. Further investigations and potential contempt proceedings were discussed. Damages claim dismissed, resolution of attorneys' fees issue continued, court retains jurisdiction. Mediation conference scheduled\",\n",
            "    \"miscellaneous\": \"Declarations of violations include violating due process, equal protection, inadequate counsel, forced labor, harsh debt collection, improper arrest warrants issuance, and improper appeal bond practices. Relief sought includes declaratory judgments, injunctions, compensatory damages, attorneys' fees, and other appropriate relief. No security bond required due to low risk of city incurring expenses; Preliminary Injunction Order applies to specified parties and individuals in concert with them. Court directed entry of document as final judgment pursuant to Rule 58 of the Federal Rules of Civil Procedure. Variety of orders issued, including those related to motions, deadlines, jurisdiction, and conferences. Joint notices and stipulations filed by both parties\"\n",
            "}\n",
            "```\n",
            "Generating summary sheet...\n",
            "{\n",
            "    \"case_info\": \"Date Filed: March 8, 2014; Court: U.S. District Court for the Middle District of Alabama; Statute: 42 U.S.C. §1983; Injunction Granted: May 1, 2014; Settlement Agreement: October 31, 2014; Case Closed: April 7, 2015\",\n",
            "    \"parties\": \"Plaintiffs: Several citizens of Montgomery, Alabama; Defendants: City of Montgomery, Alabama; Representation: Plaintiffs represented by Equal Justice Under Law and private counsel\",\n",
            "    \"legal_basis\": \"Plaintiffs filed lawsuit under 42 U.S.C. §1983 alleging violation of their rights due to imprisonment for failure to pay traffic fines without determining ability to pay\",\n",
            "    \"case_background\": \"Plaintiffs sued City of Montgomery for violation of rights, seeking declaratory judgment, damages, and attorneys' fees for imprisonment over unpaid traffic fines\",\n",
            "    \"court_proceedings\": \"Preliminary injunction granted on May 1, 2014 by Judge Mark E. Fuller; Injunction extended by Judge Myron H. Thompson on August 21, 2014; Case dismissed on October 31, 2014; Court retained jurisdiction over settlement\",\n",
            "    \"settlement_and_agreements\": \"Settlement agreement entered on October 31, 2014 with terms for changes in operations of Municipal Court of Montgomery; Agreement lasted three years\",\n",
            "    \"outcome_and_impact\": \"Defendants agreed to changes in court operations, including specific procedures and training; Court retained jurisdiction over settlement; Plaintiffs' claims resolved through settlement\",\n",
            "    \"miscellaneous\": \"Case officially closed on December 12, 2014; Court allowed parties to resolve attorneys' fees issue until January 16, 2015; Plaintiffs filed notice of settlement agreement violation on April 2, 2015, action deemed unnecessary on April 7, 2015\"\n",
            "}\n",
            "Cosine Similarity: 0.4916825255023934\n",
            "{'case_info': 'Case 2:14-cv-00186-MEF-CSC Document 1 Filed 03/18/14 Page 1 of 24. Case No.: 2:14-cv-186-MEF, Preliminary Injunction Order issued on May 1, 2014. Case 2:14-cv-00186-MHT-CSC Document 51 Filed 11/17/14 Page 1 of 2 IN THE DISTRICT COURT OF THE UNITED STATES FOR THE MIDDLE DISTRICT OF ALABAMA, NORTHERN DIVISION. Case No. 2:14-cv-186-MHT Filed with the United States District Court for the Middle District of Alabama. Case: 2:14-cv-186 Date Filed: 03/18/2014 Date Terminated: 12/12/2014 Nature of Suit: 440 Civil Rights: Other Jurisdiction: Federal Question', 'parties': 'Plaintiffs: SHARNALLE MITCHELL, LORENZO BROWN, DEB -RA P. HACKETT, COURTNEY TUBBS, TITO WILLIAMS, SHARNALLE MITCHELL, LORENZO BROWN, TITO WILLIAMS, SHARNALLE MITCHELL, et al., SHARNALLE MITCHELL, et al., Sharnalle Mitchell, Lorenzo Brown, Tito Williams, Tequila Ballard, Willie Williams, Thomas Ellis, Gavin Bullock, Kendrick Maull, Tamara Dudley, Jermaine Tyler, Janet Edwards, Risko McDaniel, Demetri Colvin, Carl Williams, Rayshone Williams, Sharnalle Mitchell, Lorenzo Brown, Courtney Tubbs, Tito Williams, Tequila Ballard, Willie Williams, Thomas Ellis, Gavin Bullock, Kendrick Maull, Tamara Dudley, Jermaine Tyler, Janet Edwards, Risko McDaniel, Demetri Colvin, Carl Williams, Rayshone Williams, Sharnalle Mitchell, Lorenzo Brown, Tito Williams, Courtney Tubbs, TEQUILA BALLARD, WILLIE WILLIAMS, THOMAS ELLIS, GAVIN BULLOCK, KENDRICK MAULL, TAMARA DUDLEY, JERMAINE TYLER, JANET EDWARDS, RISKO MCDANIEL, DEMETRI COLVIN, CARL WILLIAMS, and RAYSHONE WILLIAMS. Defendant: THE CITY OF MONTGOMERY, THE CITY OF MONTGOMERY, THE CITY OF MONTGOMERY, The City of Montgomery, THE CITY OF MONTGOMERY, et al', 'legal_basis': 'Civil rights action under 42 U.S.C. § 1983, 18 U.S.C. § 1595, and 28 U.S.C. § 2201, based on violations of the Fourth, Sixth, Thirteenth, and Fourteenth Amendments to the United States Constitution. Plaintiffs claimed violation of their Fourteenth Amendment due process and equal protection rights as outlined in Bearden v. Georgia, 461 U.S. 660 (1983). Agreement to settle declaratory and injunctive relief claims. Violation of court order regarding jailing individuals for debts without due process, poverty-based discrimination, and failure to comply with federal and state laws. 42:1983 Civil Rights Act', 'case_background': \"Plaintiffs impoverished and jailed for nonpayment of debts owed to the City of Montgomery from traffic tickets. City policy and practice of incarcerating indigent individuals without an inquiry into their ability to pay or providing alternatives to jail. Plaintiffs were imprisoned or threatened with imprisonment for failing to pay fines without a proper inquiry into their circumstances. Plaintiffs allege constitutional violations against City of Montgomery, seeking relief for illegal jailing of indigent residents. The City of Montgomery operated a debtors' prison system by incarcerating individuals for being unable to pay debts, exploiting their poverty. The court issued preliminary injunctions and orders to cease unconstitutional behavior, leading to negotiations for compliance procedures.\", 'court_proceedings': \"Plaintiffs seek vindication of rights, compensation, injunctive relief, and declaration of City's conduct as unlawful. Court jurisdiction pursuant to 28 U.S. S. § 1331 and 1343. Venue proper under 28 U.S.C. § 1391. Court granted a Preliminary Injunction based on Plaintiffs' likelihood of success, threat of irreparable injury, imbalance of harms, and public interest. Parties reached a Settlement Agreement granting final declaratory and injunctive relief after court representation. Multiple violations occurred after court orders, including a March 13 incident where individuals were fined, threatened with jail, and jailed for inability to pay a $50 fine. Violations led to investigations and admissions by the Defendants. Numerous motions filed, including Motion for Preliminary Injunction, Status Conferences, Orders related to responses and deadlines, a Status Conference, Mediation Conference, Joint Notices, and Telephone Conferences\", 'settlement_and_agreements': 'Plaintiffs filed for emergency relief seeking release from jail. City agreed to release, drop emergency petitions, and litigate issues in federal court. Plaintiffs released under specific payment plans. City of Montgomery enjoined from collecting outstanding fines, fees; City to submit a plan on determining ability to pay and alternatives to imprisonment. Parties reached a settlement agreement for declaratory and injunctive relief, as reflected in a Joint Motion for Entry of Final Declaratory and Injunctive Relief. Class certification requests and requests for class-wide relief were dismissed with prejudice. Parties agreed to comply with terms set in Settlement Agreement for designated periods', 'outcome_and_impact': \"Plaintiffs continue to owe debts to the City. City's policies profit from debt collection and cause fear among its poorest residents. Allegations of violations of constitutional rights and discriminatory practices. Plaintiffs' rights protected by the Preliminary Injunction until a decision on the merits is made; City officials required to attend hearings. Defendants admitted to willful violations of court orders, including jailing individuals for poverty-related reasons. Further investigations and potential contempt proceedings were discussed. Damages claim dismissed, resolution of attorneys' fees issue continued, court retains jurisdiction. Mediation conference scheduled\", 'miscellaneous': \"Declarations of violations include violating due process, equal protection, inadequate counsel, forced labor, harsh debt collection, improper arrest warrants issuance, and improper appeal bond practices. Relief sought includes declaratory judgments, injunctions, compensatory damages, attorneys' fees, and other appropriate relief. No security bond required due to low risk of city incurring expenses; Preliminary Injunction Order applies to specified parties and individuals in concert with them. Court directed entry of document as final judgment pursuant to Rule 58 of the Federal Rules of Civil Procedure. Variety of orders issued, including those related to motions, deadlines, jurisdiction, and conferences. Joint notices and stipulations filed by both parties\"}\n",
            "case_info\n",
            "Case 2:14-cv-00186-MEF-CSC Document 1 Filed 03/18/14 Page 1 of 24. Case No.: 2:14-cv-186-MEF, Preliminary Injunction Order issued on May 1, 2014. Case 2:14-cv-00186-MHT-CSC Document 51 Filed 11/17/14 Page 1 of 2 IN THE DISTRICT COURT OF THE UNITED STATES FOR THE MIDDLE DISTRICT OF ALABAMA, NORTHERN DIVISION. Case No. 2:14-cv-186-MHT Filed with the United States District Court for the Middle District of Alabama. Case: 2:14-cv-186 Date Filed: 03/18/2014 Date Terminated: 12/12/2014 Nature of Suit: 440 Civil Rights: Other Jurisdiction: Federal Question\n",
            "parties\n",
            "Plaintiffs: SHARNALLE MITCHELL, LORENZO BROWN, DEB -RA P. HACKETT, COURTNEY TUBBS, TITO WILLIAMS, SHARNALLE MITCHELL, LORENZO BROWN, TITO WILLIAMS, SHARNALLE MITCHELL, et al., SHARNALLE MITCHELL, et al., Sharnalle Mitchell, Lorenzo Brown, Tito Williams, Tequila Ballard, Willie Williams, Thomas Ellis, Gavin Bullock, Kendrick Maull, Tamara Dudley, Jermaine Tyler, Janet Edwards, Risko McDaniel, Demetri Colvin, Carl Williams, Rayshone Williams, Sharnalle Mitchell, Lorenzo Brown, Courtney Tubbs, Tito Williams, Tequila Ballard, Willie Williams, Thomas Ellis, Gavin Bullock, Kendrick Maull, Tamara Dudley, Jermaine Tyler, Janet Edwards, Risko McDaniel, Demetri Colvin, Carl Williams, Rayshone Williams, Sharnalle Mitchell, Lorenzo Brown, Tito Williams, Courtney Tubbs, TEQUILA BALLARD, WILLIE WILLIAMS, THOMAS ELLIS, GAVIN BULLOCK, KENDRICK MAULL, TAMARA DUDLEY, JERMAINE TYLER, JANET EDWARDS, RISKO MCDANIEL, DEMETRI COLVIN, CARL WILLIAMS, and RAYSHONE WILLIAMS. Defendant: THE CITY OF MONTGOMERY, THE CITY OF MONTGOMERY, THE CITY OF MONTGOMERY, The City of Montgomery, THE CITY OF MONTGOMERY, et al\n",
            "legal_basis\n",
            "Civil rights action under 42 U.S.C. § 1983, 18 U.S.C. § 1595, and 28 U.S.C. § 2201, based on violations of the Fourth, Sixth, Thirteenth, and Fourteenth Amendments to the United States Constitution. Plaintiffs claimed violation of their Fourteenth Amendment due process and equal protection rights as outlined in Bearden v. Georgia, 461 U.S. 660 (1983). Agreement to settle declaratory and injunctive relief claims. Violation of court order regarding jailing individuals for debts without due process, poverty-based discrimination, and failure to comply with federal and state laws. 42:1983 Civil Rights Act\n",
            "case_background\n",
            "Plaintiffs impoverished and jailed for nonpayment of debts owed to the City of Montgomery from traffic tickets. City policy and practice of incarcerating indigent individuals without an inquiry into their ability to pay or providing alternatives to jail. Plaintiffs were imprisoned or threatened with imprisonment for failing to pay fines without a proper inquiry into their circumstances. Plaintiffs allege constitutional violations against City of Montgomery, seeking relief for illegal jailing of indigent residents. The City of Montgomery operated a debtors' prison system by incarcerating individuals for being unable to pay debts, exploiting their poverty. The court issued preliminary injunctions and orders to cease unconstitutional behavior, leading to negotiations for compliance procedures.\n",
            "court_proceedings\n",
            "Plaintiffs seek vindication of rights, compensation, injunctive relief, and declaration of City's conduct as unlawful. Court jurisdiction pursuant to 28 U.S. S. § 1331 and 1343. Venue proper under 28 U.S.C. § 1391. Court granted a Preliminary Injunction based on Plaintiffs' likelihood of success, threat of irreparable injury, imbalance of harms, and public interest. Parties reached a Settlement Agreement granting final declaratory and injunctive relief after court representation. Multiple violations occurred after court orders, including a March 13 incident where individuals were fined, threatened with jail, and jailed for inability to pay a $50 fine. Violations led to investigations and admissions by the Defendants. Numerous motions filed, including Motion for Preliminary Injunction, Status Conferences, Orders related to responses and deadlines, a Status Conference, Mediation Conference, Joint Notices, and Telephone Conferences\n",
            "settlement_and_agreements\n",
            "Plaintiffs filed for emergency relief seeking release from jail. City agreed to release, drop emergency petitions, and litigate issues in federal court. Plaintiffs released under specific payment plans. City of Montgomery enjoined from collecting outstanding fines, fees; City to submit a plan on determining ability to pay and alternatives to imprisonment. Parties reached a settlement agreement for declaratory and injunctive relief, as reflected in a Joint Motion for Entry of Final Declaratory and Injunctive Relief. Class certification requests and requests for class-wide relief were dismissed with prejudice. Parties agreed to comply with terms set in Settlement Agreement for designated periods\n",
            "outcome_and_impact\n",
            "Plaintiffs continue to owe debts to the City. City's policies profit from debt collection and cause fear among its poorest residents. Allegations of violations of constitutional rights and discriminatory practices. Plaintiffs' rights protected by the Preliminary Injunction until a decision on the merits is made; City officials required to attend hearings. Defendants admitted to willful violations of court orders, including jailing individuals for poverty-related reasons. Further investigations and potential contempt proceedings were discussed. Damages claim dismissed, resolution of attorneys' fees issue continued, court retains jurisdiction. Mediation conference scheduled\n",
            "miscellaneous\n",
            "Declarations of violations include violating due process, equal protection, inadequate counsel, forced labor, harsh debt collection, improper arrest warrants issuance, and improper appeal bond practices. Relief sought includes declaratory judgments, injunctions, compensatory damages, attorneys' fees, and other appropriate relief. No security bond required due to low risk of city incurring expenses; Preliminary Injunction Order applies to specified parties and individuals in concert with them. Court directed entry of document as final judgment pursuant to Rule 58 of the Federal Rules of Civil Procedure. Variety of orders issued, including those related to motions, deadlines, jurisdiction, and conferences. Joint notices and stipulations filed by both parties\n",
            "{'case_info': 'Date Filed: March 8, 2014; Court: U.S. District Court for the Middle District of Alabama; Statute: 42 U.S.C. §1983; Injunction Granted: May 1, 2014; Settlement Agreement: October 31, 2014; Case Closed: April 7, 2015', 'parties': 'Plaintiffs: Several citizens of Montgomery, Alabama; Defendants: City of Montgomery, Alabama; Representation: Plaintiffs represented by Equal Justice Under Law and private counsel', 'legal_basis': 'Plaintiffs filed lawsuit under 42 U.S.C. §1983 alleging violation of their rights due to imprisonment for failure to pay traffic fines without determining ability to pay', 'case_background': \"Plaintiffs sued City of Montgomery for violation of rights, seeking declaratory judgment, damages, and attorneys' fees for imprisonment over unpaid traffic fines\", 'court_proceedings': 'Preliminary injunction granted on May 1, 2014 by Judge Mark E. Fuller; Injunction extended by Judge Myron H. Thompson on August 21, 2014; Case dismissed on October 31, 2014; Court retained jurisdiction over settlement', 'settlement_and_agreements': 'Settlement agreement entered on October 31, 2014 with terms for changes in operations of Municipal Court of Montgomery; Agreement lasted three years', 'outcome_and_impact': \"Defendants agreed to changes in court operations, including specific procedures and training; Court retained jurisdiction over settlement; Plaintiffs' claims resolved through settlement\", 'miscellaneous': \"Case officially closed on December 12, 2014; Court allowed parties to resolve attorneys' fees issue until January 16, 2015; Plaintiffs filed notice of settlement agreement violation on April 2, 2015, action deemed unnecessary on April 7, 2015\"}\n",
            "case_info\n",
            "Date Filed: March 8, 2014; Court: U.S. District Court for the Middle District of Alabama; Statute: 42 U.S.C. §1983; Injunction Granted: May 1, 2014; Settlement Agreement: October 31, 2014; Case Closed: April 7, 2015\n",
            "parties\n",
            "Plaintiffs: Several citizens of Montgomery, Alabama; Defendants: City of Montgomery, Alabama; Representation: Plaintiffs represented by Equal Justice Under Law and private counsel\n",
            "legal_basis\n",
            "Plaintiffs filed lawsuit under 42 U.S.C. §1983 alleging violation of their rights due to imprisonment for failure to pay traffic fines without determining ability to pay\n",
            "case_background\n",
            "Plaintiffs sued City of Montgomery for violation of rights, seeking declaratory judgment, damages, and attorneys' fees for imprisonment over unpaid traffic fines\n",
            "court_proceedings\n",
            "Preliminary injunction granted on May 1, 2014 by Judge Mark E. Fuller; Injunction extended by Judge Myron H. Thompson on August 21, 2014; Case dismissed on October 31, 2014; Court retained jurisdiction over settlement\n",
            "settlement_and_agreements\n",
            "Settlement agreement entered on October 31, 2014 with terms for changes in operations of Municipal Court of Montgomery; Agreement lasted three years\n",
            "outcome_and_impact\n",
            "Defendants agreed to changes in court operations, including specific procedures and training; Court retained jurisdiction over settlement; Plaintiffs' claims resolved through settlement\n",
            "miscellaneous\n",
            "Case officially closed on December 12, 2014; Court allowed parties to resolve attorneys' fees issue until January 16, 2015; Plaintiffs filed notice of settlement agreement violation on April 2, 2015, action deemed unnecessary on April 7, 2015\n"
          ]
        }
      ]
    },
    {
      "cell_type": "code",
      "source": [
        "# specify indices in source to process\n",
        "idx = 1\n",
        "source1, sum1, sim1 = process_source(idx)\n",
        "save_factsheet(source1, save_path + f'{ids[idx]}_source')\n",
        "save_factsheet(sum1, save_path + f'{ids[idx]}_summary')"
      ],
      "metadata": {
        "colab": {
          "base_uri": "https://localhost:8080/"
        },
        "id": "UdiGMb4napmv",
        "outputId": "ccbc46d5-a5ef-4240-dd67-6c2c2fa79148"
      },
      "execution_count": 193,
      "outputs": [
        {
          "output_type": "stream",
          "name": "stdout",
          "text": [
            "Analyzing case CJ-AL-0020\n",
            "Generating fact sheet for each document in source...\n",
            "```json\n",
            "{\n",
            "  \"case_info\": \"Case Number: 2:13-cv-732\\nFiled Date: 10/04/2013\\nTerminated Date: 11/17/2014\\nJurisdiction: Federal Question\\nCourt: U.S. District Court Alabama Middle District (Montgomery)\\nCause: 42:1983 Civil Rights Act\",\n",
            "  \"parties\": \"Plaintiff: Harriet Delores Cleveland, represented by David Carter Dinielli, Sara Michelle Zampierin, Samuel Jacob Brooke\\nConsol Plaintiff: Markis Antwuan Watts, represented by David Carter Dinielli, Sara Michelle Zampierin, Samuel Jacob Brooke\\nDefendants: City of Montgomery, Milton J. Westry, Les Hayes, III, represented by Jason Cole Paulk, Robert David Segall, Shannon Lynn Holliday\",\n",
            "  \"legal_basis\": \"Civil Rights Act of 1983 (42 U.S. Code § 1983)\",\n",
            "  \"case_background\": \"The case involved allegations related to civil rights and was filed on 10/04/2013. The plaintiff, Harriet Delores Cleveland, and the consol plaintiff, Markis Antwuan Watts, were represented by attorneys from the Southern Poverty Law Center. The defendants included the City of Montgomery, Milton J. Westry, and Les Hayes, III, represented by their respective attorneys.\",\n",
            "  \"court_proceedings\": \"The case involved motions for emergency relief, responses to petitions, orders on consolidation, motions for discovery, corporate disclosure statements, scheduling orders, motions for appearances, and a status conference among other court proceedings.\",\n",
            "  \"settlement_and_agreements\": \"A motion for entry of agreed settlement order was filed by both parties. The court denied the initial motion for entry of agreed settlement order, and an amended joint motion was submitted. Ultimately, the court granted the joint motion for entry of agreed settlement order.\",\n",
            "  \"outcome_and_impact\": \"The court issued an opinion on 11/17/2014 and a judgment was entered on the same day, closing the case. The settlement agreement between the parties was approved by the court.\",\n",
            "  \"miscellaneous\": \"Various attorneys were involved in representing the parties throughout the case. Multiple hearings and conferences were held by telephone during the proceedings.\"\n",
            "}\n",
            "```\n",
            "{\n",
            "    \"case_info\": \"Case 2:13-cv-00732-MHT-TFM\",\n",
            "    \"parties\": \"Petitioner: Harriet Delores Cleveland\\nRespondents: City of Montgomery, The Honorable Milton J. Westry\",\n",
            "    \"legal_basis\": \"Violation of due process and equal protection clauses under U.S. and Alabama Constitutions\\nViolation of right to counsel under Sixth Amendment of U.S. Constitution and Article I, Section 6 of Alabama Constitution\",\n",
            "    \"case_background\": \"Harriet Delores Cleveland was ordered to be incarcerated for failure to pay fines and costs associated with traffic tickets\\nCleveland had incurred multiple traffic violations and fines, leading to imprisonment\\nShe had been unable to find full-time work and struggled financially\",\n",
            "    \"court_proceedings\": \"Petitioner filed a petition seeking declaratory relief and challenging Municipal Court's order\\nPetitioner highlighted violations of constitutional rights and improper procedures in handling the case\",\n",
            "    \"settlement_and_agreements\": \"Petitioner sought quashing of the order for imprisonment\\nPetitioner requested the court to declare the order as unconstitutional and in violation of the law\",\n",
            "    \"outcome_and_impact\": \"Court proceedings ongoing, seeking relief for Cleveland's imprisonment\\nSeeking establishment of proper procedures for handling indigent individuals in similar situations\",\n",
            "    \"miscellaneous\": \"The case raises important issues related to due process, equal protection, and the right to counsel\\nThe outcome could set a precedent for handling similar cases in the future\"\n",
            "}\n",
            "{\n",
            "    \"case_info\": \"Case No. 2:13-cv-00732-MEF-TFM\",\n",
            "    \"parties\": \"Plaintiff: Harriet Delores Cleveland; Defendants: City of Montgomery, The Honorable Milton J. Westry\",\n",
            "    \"legal_basis\": \"Claims under 42 U.S.C. § 1983, U.S. Constitution, Alabama Constitution, and Alabama state law\",\n",
            "    \"case_background\": \"Plaintiff ordered to be incarcerated due to inability to pay traffic tickets, challenges collection procedures and practices under due process and equal protection clauses\",\n",
            "    \"court_proceedings\": \"Plaintiff filed in Circuit Court of Montgomery County, removed to U.S. District Court; Jurisdiction under 28 U.S.C. § 1331, § 1343(a)(3), § 1367; Venue proper under 28 U.S.C. § 1441(a)\",\n",
            "    \"settlement_and_agreements\": \"Plaintiff seeks declaratory judgment of rights violations, presents claims under Fourteenth Amendment, Sixth Amendment, and seeks common law certiorari\",\n",
            "    \"outcome_and_impact\": \"Ongoing legal proceedings seeking relief for rights violations and attorney fees\",\n",
            "    \"miscellaneous\": \"Plaintiff represented by Sara Zampierin, Attorney for Plaintiff at Southern Poverty Law Center\"\n",
            "}\n",
            "{\n",
            "    \"case_info\": {\n",
            "        \"case_number\": \"2:13-cv-00732\",\n",
            "        \"court\": \"United States District Court for the Middle District of Alabama\",\n",
            "        \"status\": \"CLOSED\"\n",
            "    },\n",
            "    \"parties\": {\n",
            "        \"plaintiffs\": \"HARRIET DELORES CLEVELAND, MARKIS ANTWUAN WATTS\",\n",
            "        \"defendants\": \"CITY OF MONTGOMERY, et al.\"\n",
            "    },\n",
            "    \"legal_basis\": \"Plaintiffs allege violations of the Fourteenth and Sixth Amendments of the U.S. Constitution, sections 1, 6, and 22 of the Alabama Constitution, and Rule 26.11 of the Alabama Rules of Criminal Procedure.\",\n",
            "    \"case_background\": \"Plaintiffs were allegedly jailed for inability to pay fines, fees, and costs in the Montgomery Municipal Court in August 2013.\",\n",
            "    \"court_proceedings\": \"Parties engaged in discovery, cases were consolidated, and mediation resulted in Judicial Procedures being agreed upon.\",\n",
            "    \"settlement_and_agreements\": \"Parties sought an Amended Joint Motion for Entry of an Agreed Settlement Order to resolve disputes based on the agreed Judicial Procedures.\",\n",
            "    \"outcome_and_impact\": \"Court issued an Order granting the settlement request, declaring compliance with legal principles and requirements. All claims resolved.\",\n",
            "    \"miscellaneous\": \"The case was filed on October 4, 2013, in the Middle District of Alabama, classified under Civil Rights - Other.\"\n",
            "}\n",
            "{\n",
            "    \"case_info\": \"Case Name: Harriet Delores Cleveland v. City of Montgomery et al.; Markis Antwuan Watts v. City of Montgomery et al.\\nCourt: United States District Court for the Middle District of Alabama, Northern Division\\nCase Numbers: 2:13cv732-MHT (WO); 2:13cv733-MHT (WO)\",\n",
            "    \"parties\": \"Plaintiffs: Harriet Delores Cleveland, Markis Antwuan Watts\\nDefendants: City of Montgomery, The Honorable Milton J. Westry, The Honorable Les Hayes III\",\n",
            "    \"legal_basis\": \"Claims: Violation of rights to counsel, equal protection, and due process under the Sixth and Fourteenth Amendments of the United States Constitution; Article I, §§ 1, 6, and 22 of the Alabama Constitution; Alabama Rules of Criminal Procedure\\nSubject-matter Jurisdiction: 28 U.S.C. §§ 1331, 1343(a)(3), 1367\",\n",
            "    \"case_background\": \"Plaintiffs allege they were jailed for inability to pay parking tickets; Cleveland faced fines for lack of car insurance and driving without a license; Watts incarcerated for non-payment of a traffic ticket; Cases consolidated after being filed individually in state court\",\n",
            "    \"court_proceedings\": \"Parties engaged in private mediation; Proposed judicial procedures developed to prevent incarceration for inability to pay fines; Procedural safeguards implemented including access to counsel, notification forms, and indigence/ability-to-pay hearings\",\n",
            "    \"settlement_and_agreements\": \"Agreed procedures include public defender representation, financial hardship evidence presentation, and indigence determination hearings; Debtors not jailed unless willful non-payment found; Alternative measures like payment plans or community service offered\",\n",
            "    \"outcome_and_impact\": \"Court grants joint motion for entry of agreed settlement order; Proposed procedures found to comply with federal and state constitutional requirements; Judgment entered on November 17, 2014\",\n",
            "    \"miscellaneous\": \"Quotes from Griffin v. Illinois regarding equal justice; References to Bearden v. Georgia and Turner v. Rogers regarding incarceration for non-payment and due process; Constitutional principles applied to municipal-court proceedings\"\n",
            "}\n",
            "```json\n",
            "{\n",
            "    \"case_info\": \"Case 2:13-cv-00732-MHT-TFM Document 59 Filed 11/17/14\",\n",
            "    \"parties\": \"Plaintiff: HARRIET DELORES CLEVELAND, MARKIS ANTWUAN WATTS; Defendants: CITY OF MONTGOMERY, THE HONORABLE MILTON J. WESTRY, THE HONORABLE LES HAYES III\",\n",
            "    \"legal_basis\": \"The court declares that constitutional principles set out in Bearden v. Georgia and Turner v. Rogers apply in municipal court proceedings. Judicial Procedures of the Municipal Court of the City of Montgomery for Indigent Defendants and Nonpayment comply with various constitutional requirements.\",\n",
            "    \"case_background\": \"The cases involved issues related to incarceration for non-payment in municipal court proceedings in Montgomery. The plaintiffs challenged the procedures followed by the Municipal Court of the City of Montgomery for indigent defendants.\",\n",
            "    \"court_proceedings\": \"The court granted the parties' joint motion for entry of agreed settlement order. The court declared the legal requirements regarding incarceration for non-payment and notice in municipal court proceedings. The Judicial Procedures of the Municipal Court of the City of Montgomery for Indigent Defendants and Nonpayment were found to comply with constitutional principles.\",\n",
            "    \"settlement_and_agreements\": \"The parties reached an agreed settlement order which was granted by the court. The court declared compliance with constitutional principles and legal requirements.\",\n",
            "    \"outcome_and_impact\": \"The court declared the cases closed after the settlement and agreement were reached, bringing clarity to the constitutional standards applicable in municipal court proceedings in Montgomery.\",\n",
            "    \"miscellaneous\": \"The judgment was entered on November 17, 2014, by United States District Judge Myron H. Thompson. The cases were closed, and the checklist for civil appeals jurisdiction was provided in the document.\"\n",
            "}\n",
            "```  \n",
            "Combining source fact sheets...\n",
            "```json\n",
            "{\n",
            "    \"case_info\": \"Case Numbers: 2:13-cv-732, 2:13-cv-00732-MHT-TFM, 2:13-cv-00732-MEF-TFM, 2:13cv732-MHT (WO), 2:13cv733-MHT (WO)\\nFiled Date: 10/04/2013\\nTerminated Date: 11/17/2014\\nJurisdiction: Federal Question\\nCourt: U.S. District Court Alabama Middle District (Montgomery)\\nStatus: CLOSED\",\n",
            "    \"parties\": \"Plaintiffs: Harriet Delores Cleveland, Markis Antwuan Watts; Defendants: City of Montgomery, Milton J. Westry, Les Hayes, III\",\n",
            "    \"legal_basis\": \"Civil Rights Act of 1983 (42 U.S. Code § 1983), Violation of due process and equal protection clauses under U.S. and Alabama Constitutions, Violation of right to counsel under Sixth Amendment of U.S. Constitution and Article I, Section 6 of Alabama Constitution, Claims under 42 U.S.C. § 1983, U.S. Constitution, Alabama Constitution, and Alabama state law, Allegations of violations of the Fourteenth and Sixth Amendments of the U.S. Constitution, sections 1, 6, and 22 of the Alabama Constitution, and Rule 26.11 of the Alabama Rules of Criminal Procedure\",\n",
            "    \"case_background\": \"The cases involve issues related to civil rights, imprisonment due to inability to pay fines, and challenges to collection procedures and practices. Plaintiffs faced incarceration for traffic violations and fines. Challenges were raised against the procedures for indigent defendants in municipal court proceedings.\",\n",
            "    \"court_proceedings\": \"The cases involved motions for emergency relief, responses to petitions, orders on consolidation, motions for discovery, corporate disclosure statements, scheduling orders, motions for appearances, status conferences, petition for declaratory relief challenging Municipal Court's order, discovery, consolidation of cases, private mediation, and development of judicial procedures to prevent incarceration for inability to pay fines.\",\n",
            "    \"settlement_and_agreements\": \"Multiple motions for agreed settlement orders were filed by the parties. The court ultimately granted the joint motion for entry of agreed settlement order in all cases. Agreed procedures were established to address the rights violations and prevent incarceration for non-payment.\",\n",
            "    \"outcome_and_impact\": \"Opinions and judgments were issued closing the cases. Settlement agreements and procedures were approved by the court, resolving all claims and leading to compliance with legal requirements and constitutional principles in municipal court proceedings.\",\n",
            "    \"miscellaneous\": \"The cases attracted various attorneys representing the parties. Important legal issues regarding civil rights, due process, equal protection, and right to counsel were raised. The outcomes and settlements are expected to set precedents for future similar cases.\"\n",
            "}\n",
            "```  \n",
            "Generating summary sheet...\n",
            "```json\n",
            "{\n",
            "    \"case_info\": \"On August 28, 2013, a lawsuit was filed in the Circuit Court of Montgomery County, Alabama.\",\n",
            "    \"parties\": \"Plaintiff: Indigent detainee in Montgomery Municipal Jail; Defendants: City of Montgomery, Honorable Milton J. Westry\",\n",
            "    \"legal_basis\": \"Lawsuit filed under 42 U.S.C. § 1983 alleging violation of Sixth Amendment, due process, and equal protection clause.\",\n",
            "    \"case_background\": \"Plaintiff accumulated fines and fees on traffic tickets, arrested on August 20, 2013, ordered to pay or serve jail time by Judge Westry, not appointed a lawyer.\",\n",
            "    \"court_proceedings\": \"Case removed to United States District Court for the Middle District of Alabama, consolidated with another similar case, discovery started, participated in another case's hearings, engaged in private mediation.\",\n",
            "    \"settlement_and_agreements\": \"Joint motion to approve proposed settlement agreement submitted on August 28, 2014, amended motion filed on September 12, 2014, settlement included payment of attorneys' fees and establishment of judicial procedures for indigent defendants.\",\n",
            "    \"outcome_and_impact\": \"Final judgment entered on November 17, 2014, declaring proposed judicial procedures complied with constitutional principles and legal requirements.\",\n",
            "    \"miscellaneous\": \"Plaintiff represented by Southern Poverty Law Center, case closed after settlement agreement.\"\n",
            "}\n",
            "```  \n",
            "Cosine Similarity: 0.4312349749193793\n",
            "{'case_info': 'Case Numbers: 2:13-cv-732, 2:13-cv-00732-MHT-TFM, 2:13-cv-00732-MEF-TFM, 2:13cv732-MHT (WO), 2:13cv733-MHT (WO)\\nFiled Date: 10/04/2013\\nTerminated Date: 11/17/2014\\nJurisdiction: Federal Question\\nCourt: U.S. District Court Alabama Middle District (Montgomery)\\nStatus: CLOSED', 'parties': 'Plaintiffs: Harriet Delores Cleveland, Markis Antwuan Watts; Defendants: City of Montgomery, Milton J. Westry, Les Hayes, III', 'legal_basis': 'Civil Rights Act of 1983 (42 U.S. Code § 1983), Violation of due process and equal protection clauses under U.S. and Alabama Constitutions, Violation of right to counsel under Sixth Amendment of U.S. Constitution and Article I, Section 6 of Alabama Constitution, Claims under 42 U.S.C. § 1983, U.S. Constitution, Alabama Constitution, and Alabama state law, Allegations of violations of the Fourteenth and Sixth Amendments of the U.S. Constitution, sections 1, 6, and 22 of the Alabama Constitution, and Rule 26.11 of the Alabama Rules of Criminal Procedure', 'case_background': 'The cases involve issues related to civil rights, imprisonment due to inability to pay fines, and challenges to collection procedures and practices. Plaintiffs faced incarceration for traffic violations and fines. Challenges were raised against the procedures for indigent defendants in municipal court proceedings.', 'court_proceedings': \"The cases involved motions for emergency relief, responses to petitions, orders on consolidation, motions for discovery, corporate disclosure statements, scheduling orders, motions for appearances, status conferences, petition for declaratory relief challenging Municipal Court's order, discovery, consolidation of cases, private mediation, and development of judicial procedures to prevent incarceration for inability to pay fines.\", 'settlement_and_agreements': 'Multiple motions for agreed settlement orders were filed by the parties. The court ultimately granted the joint motion for entry of agreed settlement order in all cases. Agreed procedures were established to address the rights violations and prevent incarceration for non-payment.', 'outcome_and_impact': 'Opinions and judgments were issued closing the cases. Settlement agreements and procedures were approved by the court, resolving all claims and leading to compliance with legal requirements and constitutional principles in municipal court proceedings.', 'miscellaneous': 'The cases attracted various attorneys representing the parties. Important legal issues regarding civil rights, due process, equal protection, and right to counsel were raised. The outcomes and settlements are expected to set precedents for future similar cases.'}\n",
            "case_info\n",
            "Case Numbers: 2:13-cv-732, 2:13-cv-00732-MHT-TFM, 2:13-cv-00732-MEF-TFM, 2:13cv732-MHT (WO), 2:13cv733-MHT (WO)\n",
            "Filed Date: 10/04/2013\n",
            "Terminated Date: 11/17/2014\n",
            "Jurisdiction: Federal Question\n",
            "Court: U.S. District Court Alabama Middle District (Montgomery)\n",
            "Status: CLOSED\n",
            "parties\n",
            "Plaintiffs: Harriet Delores Cleveland, Markis Antwuan Watts; Defendants: City of Montgomery, Milton J. Westry, Les Hayes, III\n",
            "legal_basis\n",
            "Civil Rights Act of 1983 (42 U.S. Code § 1983), Violation of due process and equal protection clauses under U.S. and Alabama Constitutions, Violation of right to counsel under Sixth Amendment of U.S. Constitution and Article I, Section 6 of Alabama Constitution, Claims under 42 U.S.C. § 1983, U.S. Constitution, Alabama Constitution, and Alabama state law, Allegations of violations of the Fourteenth and Sixth Amendments of the U.S. Constitution, sections 1, 6, and 22 of the Alabama Constitution, and Rule 26.11 of the Alabama Rules of Criminal Procedure\n",
            "case_background\n",
            "The cases involve issues related to civil rights, imprisonment due to inability to pay fines, and challenges to collection procedures and practices. Plaintiffs faced incarceration for traffic violations and fines. Challenges were raised against the procedures for indigent defendants in municipal court proceedings.\n",
            "court_proceedings\n",
            "The cases involved motions for emergency relief, responses to petitions, orders on consolidation, motions for discovery, corporate disclosure statements, scheduling orders, motions for appearances, status conferences, petition for declaratory relief challenging Municipal Court's order, discovery, consolidation of cases, private mediation, and development of judicial procedures to prevent incarceration for inability to pay fines.\n",
            "settlement_and_agreements\n",
            "Multiple motions for agreed settlement orders were filed by the parties. The court ultimately granted the joint motion for entry of agreed settlement order in all cases. Agreed procedures were established to address the rights violations and prevent incarceration for non-payment.\n",
            "outcome_and_impact\n",
            "Opinions and judgments were issued closing the cases. Settlement agreements and procedures were approved by the court, resolving all claims and leading to compliance with legal requirements and constitutional principles in municipal court proceedings.\n",
            "miscellaneous\n",
            "The cases attracted various attorneys representing the parties. Important legal issues regarding civil rights, due process, equal protection, and right to counsel were raised. The outcomes and settlements are expected to set precedents for future similar cases.\n",
            "{'case_info': 'On August 28, 2013, a lawsuit was filed in the Circuit Court of Montgomery County, Alabama.', 'parties': 'Plaintiff: Indigent detainee in Montgomery Municipal Jail; Defendants: City of Montgomery, Honorable Milton J. Westry', 'legal_basis': 'Lawsuit filed under 42 U.S.C. § 1983 alleging violation of Sixth Amendment, due process, and equal protection clause.', 'case_background': 'Plaintiff accumulated fines and fees on traffic tickets, arrested on August 20, 2013, ordered to pay or serve jail time by Judge Westry, not appointed a lawyer.', 'court_proceedings': \"Case removed to United States District Court for the Middle District of Alabama, consolidated with another similar case, discovery started, participated in another case's hearings, engaged in private mediation.\", 'settlement_and_agreements': \"Joint motion to approve proposed settlement agreement submitted on August 28, 2014, amended motion filed on September 12, 2014, settlement included payment of attorneys' fees and establishment of judicial procedures for indigent defendants.\", 'outcome_and_impact': 'Final judgment entered on November 17, 2014, declaring proposed judicial procedures complied with constitutional principles and legal requirements.', 'miscellaneous': 'Plaintiff represented by Southern Poverty Law Center, case closed after settlement agreement.'}\n",
            "case_info\n",
            "On August 28, 2013, a lawsuit was filed in the Circuit Court of Montgomery County, Alabama.\n",
            "parties\n",
            "Plaintiff: Indigent detainee in Montgomery Municipal Jail; Defendants: City of Montgomery, Honorable Milton J. Westry\n",
            "legal_basis\n",
            "Lawsuit filed under 42 U.S.C. § 1983 alleging violation of Sixth Amendment, due process, and equal protection clause.\n",
            "case_background\n",
            "Plaintiff accumulated fines and fees on traffic tickets, arrested on August 20, 2013, ordered to pay or serve jail time by Judge Westry, not appointed a lawyer.\n",
            "court_proceedings\n",
            "Case removed to United States District Court for the Middle District of Alabama, consolidated with another similar case, discovery started, participated in another case's hearings, engaged in private mediation.\n",
            "settlement_and_agreements\n",
            "Joint motion to approve proposed settlement agreement submitted on August 28, 2014, amended motion filed on September 12, 2014, settlement included payment of attorneys' fees and establishment of judicial procedures for indigent defendants.\n",
            "outcome_and_impact\n",
            "Final judgment entered on November 17, 2014, declaring proposed judicial procedures complied with constitutional principles and legal requirements.\n",
            "miscellaneous\n",
            "Plaintiff represented by Southern Poverty Law Center, case closed after settlement agreement.\n"
          ]
        }
      ]
    }
  ]
}