{
  "cells": [
    {
      "cell_type": "markdown",
      "metadata": {
        "id": "QnBx9kuY1j_1"
      },
      "source": [
        "## Environment Setup\n"
      ]
    },
    {
      "cell_type": "code",
      "source": [
        "!pip install openai\n",
        "!pip install datasets\n",
        "!pip install evaluate"
      ],
      "metadata": {
        "id": "GarM0Oz_BV8V"
      },
      "execution_count": 13,
      "outputs": []
    },
    {
      "cell_type": "code",
      "execution_count": 14,
      "metadata": {
        "id": "c5OTyh9Olj2O"
      },
      "outputs": [],
      "source": [
        "import json\n",
        "from openai import OpenAI\n",
        "from IPython.utils.capture import capture_output\n",
        "from datasets import load_dataset"
      ]
    },
    {
      "cell_type": "code",
      "execution_count": 15,
      "metadata": {
        "colab": {
          "base_uri": "https://localhost:8080/"
        },
        "id": "j1QYBPyomydv",
        "outputId": "65fcdc05-128b-4c7f-d647-508a207ddcf2"
      },
      "outputs": [
        {
          "output_type": "stream",
          "name": "stdout",
          "text": [
            "Drive already mounted at /content/drive; to attempt to forcibly remount, call drive.mount(\"/content/drive\", force_remount=True).\n",
            "/content/drive/.shortcut-targets-by-id/1LeLbrNZayyv5i4FVOL44lq8EKgwzSuZl/CS 159 Project\n"
          ]
        }
      ],
      "source": [
        "from google.colab import drive\n",
        "drive.mount('/content/drive')\n",
        "\n",
        "\n",
        "%cd /content/drive/MyDrive/CS 159 Project"
      ]
    },
    {
      "cell_type": "code",
      "source": [
        "from factsheet_utils import *\n",
        "from metrics_utils import *"
      ],
      "metadata": {
        "id": "DMjugdv6RExs"
      },
      "execution_count": 16,
      "outputs": []
    },
    {
      "cell_type": "code",
      "execution_count": 17,
      "metadata": {
        "id": "g9cV2QeyloCe"
      },
      "outputs": [],
      "source": [
        "YOUR_KEY = \"sk-proj-xoQeTl5vSUoRWpzHyg5aT3BlbkFJpE2JAIcnzhQznKYKQy89\"\n",
        "client = OpenAI(api_key = YOUR_KEY)"
      ]
    },
    {
      "cell_type": "markdown",
      "metadata": {
        "id": "fysnYtQ5RhHC"
      },
      "source": [
        "## Load Multi_Lexsum Dataset"
      ]
    },
    {
      "cell_type": "code",
      "execution_count": 18,
      "metadata": {
        "id": "3vxj87mXRkAZ"
      },
      "outputs": [],
      "source": [
        "multi_lexsum = load_dataset(\"allenai/multi_lexsum\", name=\"v20220616\")"
      ]
    },
    {
      "cell_type": "code",
      "execution_count": 19,
      "metadata": {
        "colab": {
          "base_uri": "https://localhost:8080/"
        },
        "id": "YJn8K6TJIUkJ",
        "outputId": "8fec8cf5-4add-4c99-b4a3-fc4ccc7411e9"
      },
      "outputs": [
        {
          "output_type": "execute_result",
          "data": {
            "text/plain": [
              "DatasetDict({\n",
              "    train: Dataset({\n",
              "        features: ['id', 'sources', 'summary/long', 'summary/short', 'summary/tiny'],\n",
              "        num_rows: 3177\n",
              "    })\n",
              "    validation: Dataset({\n",
              "        features: ['id', 'sources', 'summary/long', 'summary/short', 'summary/tiny'],\n",
              "        num_rows: 454\n",
              "    })\n",
              "    test: Dataset({\n",
              "        features: ['id', 'sources', 'summary/long', 'summary/short', 'summary/tiny'],\n",
              "        num_rows: 908\n",
              "    })\n",
              "})"
            ]
          },
          "metadata": {},
          "execution_count": 19
        }
      ],
      "source": [
        "multi_lexsum"
      ]
    },
    {
      "cell_type": "code",
      "execution_count": 20,
      "metadata": {
        "id": "SUAQxBLqSYRH"
      },
      "outputs": [],
      "source": [
        "train = multi_lexsum[\"test\"] # The first instance of the dev set"
      ]
    },
    {
      "cell_type": "markdown",
      "metadata": {
        "id": "uT1T1zyi4ufN"
      },
      "source": [
        "## Methods to Generate, Combine, Save, and Compute Accuracy"
      ]
    },
    {
      "cell_type": "markdown",
      "metadata": {
        "id": "c5RqizlS46Ne"
      },
      "source": [
        "Process a source given its index in the sources and ids lists.\n",
        "1. Generates factsheets for each document in source\n",
        "2. Combines these sheets into a single sheet\n",
        "3. Generates factsheet for the summary (we use long summary for now)\n",
        "4. Compares the source and summary sheets using cosine similarity."
      ]
    },
    {
      "cell_type": "code",
      "execution_count": 21,
      "metadata": {
        "id": "kczURsbvZDUz"
      },
      "outputs": [],
      "source": [
        "# train\n",
        "sources = train['sources']\n",
        "ids = train['id']\n",
        "\n",
        "def process_source(idx):\n",
        "  source = sources[idx]\n",
        "  id = ids[idx]\n",
        "  print(f\"Analyzing case {id}\")\n",
        "\n",
        "  # Break source up into segments for processing\n",
        "  print('Generating fact sheet for each document in source...')\n",
        "  source_responses = []\n",
        "  for s in source:\n",
        "    source_responses.append(generate_fact_sheet(s, client))\n",
        "\n",
        "  # combine source responses\n",
        "  print('Combining source fact sheets...')\n",
        "  source_sheet = combine_fact_sheets(source_responses, client, verbose=False)\n",
        "  print(source_sheet)\n",
        "\n",
        "  # generate summary sheet\n",
        "  print('Generating summary sheet...')\n",
        "  summary_sheet = generate_fact_sheet(train['summary/long'][idx], client, verbose=False)\n",
        "  print(summary_sheet)\n",
        "\n",
        "  # compute cosine similarity as accuracy measure\n",
        "  cos_sim = compute_cosine_similarity(source_sheet, summary_sheet, verbose=False)\n",
        "  print(f\"Cosine Similarity: {cos_sim}\")\n",
        "\n",
        "  return source_sheet, summary_sheet, cos_sim"
      ]
    },
    {
      "cell_type": "markdown",
      "metadata": {
        "id": "e8heybQT4buy"
      },
      "source": [
        "## Generate Factsheets and metrics for First Two Sources"
      ]
    },
    {
      "cell_type": "code",
      "execution_count": 22,
      "metadata": {
        "id": "cPnEi8_kb3ns"
      },
      "outputs": [],
      "source": [
        "save_path = '/content/drive/MyDrive/CS 159 Project/factsheet/'"
      ]
    },
    {
      "cell_type": "code",
      "execution_count": 23,
      "metadata": {
        "colab": {
          "base_uri": "https://localhost:8080/"
        },
        "id": "rnaMdmYuVmeM",
        "outputId": "5c96adb0-452c-4831-c831-2243d4ca32c3"
      },
      "outputs": [
        {
          "output_type": "stream",
          "name": "stdout",
          "text": [
            "Analyzing case CJ-AL-0007\n",
            "Generating fact sheet for each document in source...\n",
            "```json\n",
            "{\n",
            "    \"case_info\": \"Case 2:14-cv-00186-MEF-CSC Document 1 Filed 03/18/14 Page 1 of 24\",\n",
            "    \"parties\": \"Sharnalle Mitchell, Lorenzo Brown, Deborah P. Hooten, Courtney Tubbs, Tito Williams, The City of Montgomery\",\n",
            "    \"legal_basis\": \"42 U.S.C. § 1983, 18 U.S.C. § 1595, 28 U.S.C. § 1331, Fourth, Sixth, Thirteenth, and Fourteenth Amendments to the United States Constitution\",\n",
            "    \"case_background\": \"Plaintiffs jailed by City of Montgomery for inability to pay debts from traffic tickets, City's policy to jail indigent individuals without proper inquiry or counsel\",\n",
            "    \"court_proceedings\": \"Plaintiffs seek vindication of their rights, compensation, injunctive relief, and declaration of City's conduct as unlawful\",\n",
            "    \"settlement_and_agreements\": \"Plaintiffs' emergency petitions for release led to agreements for release from jail, reduced debts, payment plans, ongoing fear of re-imprisonment\",\n",
            "    \"outcome_and_impact\": \"City's policies violated Plaintiffs' rights, systemic illegality against indigent individuals, ongoing fear among poor residents, exploitation of legal process for financial gain\",\n",
            "    \"miscellaneous\": \"City contracts with private for-profit corporation for debt collection, coercive labor practices in jail, excessive fines and surcharges, ongoing unjust practices by City\"\n",
            "}\n",
            "```\n",
            "```json\n",
            "{\n",
            "    \"Issue\": \"Whether the City of Montgomery violated Plaintiffs' rights by jailing them for inability to pay debts from traffic tickets?\",\n",
            "    \"Rule\": \"Laws and legal principles applicable: 42 U.S.C. § 1983, 18 U.S.C. § 1595, 28 U.S.C. § 1331, Fourth, Sixth, Thirteenth, and Fourteenth Amendments to the United States Constitution\",\n",
            "    \"Application\": \"Plaintiffs were jailed by the City of Montgomery without proper inquiry or counsel due to inability to pay debts, seeking vindication of their rights and relief through legal actions, leading to agreements for release, reduced debts, and ongoing fear of re-imprisonment. The City's policies were found to violate Plaintiffs' rights, indicated systemic illegal practices, exploitation of indigent individuals, and ongoing unjust conduct.\",\n",
            "    \"Conclusion\": \"The City of Montgomery's actions were deemed unlawful, leading to agreements for release and reduced debts for the Plaintiffs. The court found violations of constitutional amendments and federal laws, highlighting the ongoing fear and exploitation faced by poor residents due to the City's practices.\"\n",
            "}\n",
            "```\n",
            "```json\n",
            "{\n",
            "  \"case_info\": \"Case 2:14-cv-00186-MEF-CSC Document 18 Filed 05/01/14\",\n",
            "  \"parties\": \"Plaintiffs: Sharnalle Mitchell, Lorenzo Brown, Tito Williams; Defendant: The City of Montgomery\",\n",
            "  \"legal_basis\": \"Plaintiffs claimed a violation of their Fourteenth Amendment due process and equal protection rights as outlined in Bearden v. Georgia, 461 U.S. 660 (1983)\",\n",
            "  \"case_background\": \"Plaintiffs alleged the City of Montgomery unlawfully imprisoned them for failing to pay fines without conducting a meaningful inquiry into their ability to pay or considering alternatives to imprisonment\",\n",
            "  \"court_proceedings\": \"Plaintiffs filed a Motion for Preliminary Injunction; Court granted the injunction finding substantial likelihood of success, threat of irreparable injury, and no disservice to public interest\",\n",
            "  \"settlement_and_agreements\": \"City of Montgomery ordered not to collect outstanding fines until further order; City to submit a plan on determining ability to pay and alternatives to imprisonment; Plaintiffs to submit objections; Hearing scheduled to evaluate the City's plan\",\n",
            "  \"outcome_and_impact\": \"Preliminary injunction issued to protect Plaintiffs' rights until a final decision is reached; Officials ordered to attend hearing to address proposed plan; No security bond required\",\n",
            "  \"miscellaneous\": \"Court held hearing on May 1, 2014; Officials required to comply with all applicable laws and rules; Preliminary Injunction Order applies to specified parties and associates\"\n",
            "}\n",
            "```\n",
            "```json\n",
            "{\n",
            "    \"Issue\": \"Whether the City of Montgomery violated the Plaintiffs' Fourteenth Amendment due process and equal protection rights by imprisoning them for failure to pay fines without assessing their ability to pay or considering alternatives to imprisonment?\",\n",
            "    \"Rule\": \"Plaintiffs' rights as outlined in Bearden v. Georgia, 461 U.S. 660 (1983), which prohibits imprisoning individuals for failure to pay fines without first determining their ability to pay and considering alternatives to imprisonment.\",\n",
            "    \"Application\": \"Plaintiffs alleged that the City of Montgomery unlawfully imprisoned them without due process or equal protection by failing to inquire into their ability to pay fines or explore alternatives to imprisonment. The Court granted a preliminary injunction in favor of the Plaintiffs, finding a substantial likelihood of success on the merits, a threat of irreparable injury, and no disservice to the public interest. As a result, the City of Montgomery was ordered not to collect outstanding fines until further order, required to submit a plan on determining ability to pay and alternatives to imprisonment, and Plaintiffs were given the opportunity to submit objections. A hearing was scheduled to evaluate the City's plan, and officials were mandated to comply with all applicable laws and rules.\",\n",
            "    \"Conclusion\": \"A preliminary injunction was issued to protect the Plaintiffs' rights until a final decision is made. City officials were ordered to attend a hearing to address the proposed plan, and no security bond was required. The Preliminary Injunction Order applied to specified parties and associates, with the aim of ensuring due process and equal protection for the Plaintiffs.\"\n",
            "}\n",
            "```\n",
            "{\n",
            "    \"case_info\": \"Case 2:14-cv-00186-MHT-CSC Document 51 Filed 11/17/14 Page 1 of 2 IN THE DISTRICT COURT OF THE UNITED STATES FOR THE MIDDLE DISTRICT OF ALABAMA, NORTHERN DIVISION\",\n",
            "    \"parties\": \"SHARNALLE MITCHELL, LORENZO BROWN, TITO WILLIAMS, COURTNEY TUBBS, TEQUILA BALLARD, WILLIE WILLIAMS, THOMAS ELLIS, GAVIN BULLOCK, KENDRICK MAULL, TAMARA TUDLEY, JERMAINE TYLER, JANET EDWARDS, RISKO MCDANIEL, DEMETRI COLVIN, CARL WILLIAMS, and RAYSHONE WILLIAMS\",\n",
            "    \"legal_basis\": \"Declaratory and injunctive relief sought by Plaintiffs due to constitutional violations, alleged involvement of City officials, employees, and agents in illegal jailing of indigent City residents\",\n",
            "    \"case_background\": \"Plaintiffs filed a lawsuit against the City of Montgomery alleging constitutional violations related to illegal jailing of indigent residents\",\n",
            "    \"court_proceedings\": \"Parties entered into a Settlement Agreement to resolve the declaratory and injunctive relief claims, with Judges of Municipal Court agreeing to specific provisions for compliance\",\n",
            "    \"settlement_and_agreements\": \"Settlement Agreement included provisions such as audio recording compliance hearings, use of microphones, notification of defendants placed in jail, public access to courtroom, training for Public Defenders and Prosecutors, restrictions on private probation companies, and compliance with Judicial Procedures\",\n",
            "    \"outcome_and_impact\": \"Final declaratory and injunctive relief granted, with agreement for continued jurisdiction of the court to enforce terms of Settlement Agreement for a specified period\",\n",
            "    \"miscellaneous\": \"The case remains open for monitoring of Settlement Agreement compliance and any material breaches, with the Judges and City not admitting liability\"\n",
            "}\n",
            "{\n",
            "    \"Issue\": \"Whether the City of Montgomery violated the constitutional rights of indigent residents through illegal jailing?\",\n",
            "    \"Rule\": \"Declaratory and injunctive relief sought for constitutional violations, involvement of City officials in illegal jailing, Settlement Agreement for compliance with specific provisions, continued court jurisdiction for enforcement.\",\n",
            "    \"Application\": \"Plaintiffs sued City of Montgomery alleging constitutional violations related to illegal jailing of indigent residents. Parties entered into a Settlement Agreement addressing compliance issues like audio recording, public access, probation company restrictions. Final relief granted with continued court oversight of Settlement Agreement terms.\",\n",
            "    \"Conclusion\": \"Declaratory and injunctive relief granted against the City of Montgomery with continued court jurisdiction to enforce Settlement Agreement provisions.\"\n",
            "}\n",
            "{\n",
            "    \"case_info\": \"Case No. 2:14-cv-186-MHT, Notice of Willful Violation of Court Order\",\n",
            "    \"parties\": \"Plaintiffs: Sharnalle Mitchell, et al. Defendants: The City of Montgomery, et al\",\n",
            "    \"legal_basis\": \"Federal injunction prohibiting jailing of individuals for inability to pay debts, violations of due process, violations of federal law and Rules of Professional Ethics\",\n",
            "    \"case_background\": \"City of Montgomery ran a modern debtors' prison system, locking up individuals solely because of poverty without due process. Court granted preliminary injunctive relief on May 1, 2014. City continued unlawful conduct, leading to a November 17, 2014 order to comply with new procedures.\",\n",
            "    \"court_proceedings\": \"City violated court order on March 13, 2015, by threatening individuals with fines and jail time for late arrival. Judge assessed fines summarily without due process, leading to multiple violations of court order.\",\n",
            "    \"settlement_and_agreements\": \"City agreed to new procedures to prevent jailing of individuals for inability to pay. Violations led to resignations and refunds of fines.\",\n",
            "    \"outcome_and_impact\": \"Violations of the court order resulted in potential civil contempt sanctions. Plaintiffs investigating full scope of violations and potential criminal contempt proceedings.\",\n",
            "    \"miscellaneous\": \"Defendants admitted to multiple violations, promising policy changes. Plaintiffs considering further legal actions to address violations.\"\n",
            "}\n",
            "```json\n",
            "{\n",
            "  \"Issue\": \"Whether the City of Montgomery will be held in contempt for willful violation of court orders regarding jailing individuals for inability to pay debts and violations of due process?\",\n",
            "  \"Rule\": \"The legal basis for the case involves a federal injunction prohibiting the jailing of individuals for inability to pay debts, violations of due process, violations of federal law, and Rules of Professional Ethics.\",\n",
            "  \"Application\": \"The City of Montgomery ran a debtors' prison system, which resulted in a federal court granting preliminary injunctive relief on May 1, 2014. Despite the court ordering compliance with new procedures on November 17, 2014, the City continued its unlawful conduct by threatening individuals with fines and jail time for late arrivals. The subsequent violations of the court orders led to resignations, refunds, and potential civil contempt sanctions. Plaintiffs are considering further legal actions, including potential criminal contempt proceedings.\",\n",
            "  \"Conclusion\": \"The City of Montgomery's violations of the court orders have serious consequences, including potential civil contempt sanctions and ongoing investigations into the extent of the violations, with possible criminal contempt proceedings looming. Defendants have admitted to multiple violations and have agreed to implement policy changes to prevent future violations.\"\n",
            "}\n",
            "```  \n",
            "{\n",
            "    \"case_info\": \"Case: 2:14-cv-186 As of: 10/31/2017 07:42 AM CDT\",\n",
            "    \"parties\": \"Plaintiff: Sharnalle Mitchell, Lorenzo Brown, Courtney Tubbs, Tito Williams, Tequila Ballard, Willie Williams, Thomas Ellis, Gavin Bullock, Kendrick Maull, Tamara Dudley, Jermaine Tyler, Janet Edwards, Risko McDaniel, Demetri Colvin, Carl Williams, Rayshone Williams, Angela McCullough, Marquita Johnson, Kenny Jones, Algi Edwards, Levon Agee, Adrian Floyd, Hassan Caldwell, Devron James, Ashely Scott, Christopher Mooney. Defendant: The City of Montgomery, Les Hayes III, Milton Westry, Darron Hendley, Lloria James.\",\n",
            "    \"legal_basis\": \"42:1983 Civil Rights Act\",\n",
            "    \"case_background\": \"Filed on 03/18/2014, terminated on 12/12/2014, related to civil rights and other claims against The City of Montgomery.\",\n",
            "    \"court_proceedings\": \"Multiple motions filed, including for preliminary injunction and expedited hearing. Various orders issued by Judge Mark E. Fuller and Judge Myron H. Thompson regarding scheduling, hearings, and responses. Extensive telephonic status conferences held to address issues.\",\n",
            "    \"settlement_and_agreements\": \"Agreement reached for final declaratory and injunctive relief with specific terms and timelines for compliance.\",\n",
            "    \"outcome_and_impact\": \"Damages claim dismissed, issue of attorneys' fees to be resolved through mediation. Class certification request dismissed with prejudice. Final judgment entered for compliance with settlement agreement.\",\n",
            "    \"miscellaneous\": \"Further telephonic conferences scheduled to address remaining issues of damages and attorneys' fees. Motion to consolidate cases denied by Judge Myron H. Thompson.\",\n",
            "}\n",
            "```json\n",
            "{\n",
            "    \"Issue\": \"Determination of legal claims against The City of Montgomery and others under 42:1983 Civil Rights Act.\",\n",
            "    \"Rule\": \"The 42:1983 Civil Rights Act provides individuals the right to seek relief for violations of their constitutional rights by state actors in federal court.\",\n",
            "    \"Application\": \"The plaintiffs filed civil rights and other claims against The City of Montgomery, leading to court proceedings involving various motions, orders by Judge Mark E. Fuller and Judge Myron H. Thompson, and telephonic conferences. A settlement was reached for declaratory and injunctive relief with specific terms and timelines for compliance, resulting in the dismissal of damages claim and denial of class certification request.\",\n",
            "    \"Conclusion\": \"Final judgment was entered for compliance with the settlement agreement, while the issue of attorneys' fees is to be resolved through mediation. Remaining issues of damages and attorneys' fees are scheduled for further telephonic conferences.\"\n",
            "}\n",
            "```\n",
            "Combining source fact sheets...\n",
            "```json\n",
            "{\n",
            "    \"Issue\": \"The main legal question in the case is whether the City of Montgomery violated the Plaintiffs' rights by jailing them for inability to pay debts from traffic tickets, violated their Fourteenth Amendment due process and equal protection rights by imprisoning them for failure to pay fines without assessing their ability to pay or considering alternatives to imprisonment, violated the constitutional rights of indigent residents through illegal jailing, and whether the City of Montgomery will be held in contempt for willful violation of court orders regarding jailing individuals for inability to pay debts and violations of due process; as well as determining the legal claims against The City of Montgomery and others under the 42:1983 Civil Rights Act.\",\n",
            "\n",
            "    \"Rule\": \"The relevant laws and legal principles applicable include 42 U.S.C. § 1983, 18 U.S.C. § 1595, 28 U.S.C. § 1331, Fourth, Sixth, Thirteenth, and Fourteenth Amendments to the United States Constitution, Bearden v. Georgia, 461 U.S. 660 (1983), federal injunctions prohibiting the jailing of individuals for inability to pay debts, violations of due process, federal laws, Rules of Professional Ethics, and the 42:1983 Civil Rights Act providing individuals the right to seek relief for violations of their constitutional rights by state actors in federal court.\",\n",
            "\n",
            "    \"Application\": \"The Plaintiffs were unlawfully jailed by the City of Montgomery without proper inquiry or counsel due to inability to pay debts, leading to vindication of their rights through legal actions and agreements for release, reduced debts, and ongoing fear of re-imprisonment. The City's policies were found to violate Plaintiffs' rights, indicating systemic illegal practices, exploitation of indigent individuals, and ongoing unjust conduct. The court granted preliminary injunctions in favor of the Plaintiffs, ordering the City not to collect outstanding fines, submit a plan on determining ability to pay and alternatives to imprisonment, and comply with all applicable laws and rules. Plaintiffs sought declaratory and injunctive relief for constitutional violations related to illegal jailing of indigent residents, resulting in a Settlement Agreement with continued court oversight. The City continued its unlawful conduct despite court orders, leading to potential civil contempt sanctions and ongoing investigations. The court proceedings involved various motions, orders, and settlement agreements with compliance requirements and telephonic conferences.\",\n",
            "\n",
            "    \"Conclusion\": \"The City of Montgomery's actions were deemed unlawful, leading to agreements for release and reduced debts for the Plaintiffs. The court found violations of constitutional amendments and federal laws, highlighting the ongoing fear and exploitation faced by poor residents due to the City's practices. Preliminary injunctions were issued to protect the Plaintiffs' rights, with continued court jurisdiction for enforcement. The City of Montgomery may face potential civil contempt sanctions and investigations into the extent of violations, with possible criminal contempt proceedings. Final judgments were entered for compliance with settlement agreements, while issues of damages and attorneys' fees are scheduled for further resolution.\"\n",
            "}\n",
            "```  \n",
            "Generating summary sheet...\n",
            "```json\n",
            "{\n",
            "    \"Issue\": \"Whether the City of Montgomery, Alabama, violated the rights of the citizens under 42 U.S.C. §1983 by imprisoning individuals for failing to pay traffic fines without assessing their ability to pay.\",\n",
            "    \"Rule\": \"Relevant law: 42 U.S.C. §1983 allows individuals to sue for violations of their constitutional rights by state or local government officials; in this case, the claim is based on imprisonment for failure to pay fines without determining ability to pay.\",\n",
            "    \"Application\": \"The citizens of Montgomery, Alabama sued the City for violating their rights under 42 U.S.C. §1983 by alleging that they were imprisoned for not paying traffic fines without considering their financial circumstances. The court proceedings involved a preliminary injunction being granted and a settlement agreement being reached, wherein the City agreed to operational changes to address the issues raised by the plaintiffs. The case was closed after the settlement agreement was implemented, and subsequent issues were resolved through corrective actions by the defendants.\",\n",
            "    \"Conclusion\": \"The case concluded with the jurisdiction over the settlement agreement, resolution of attorneys' fees, and corrective actions taken by the defendants in response to alleged violations, demonstrating a commitment to complying with the terms of the agreement.\"\n",
            "}\n",
            "```  \n",
            "Cosine Similarity: 0.7079607472241582\n",
            "{'Issue': \"The main legal question in the case is whether the City of Montgomery violated the Plaintiffs' rights by jailing them for inability to pay debts from traffic tickets, violated their Fourteenth Amendment due process and equal protection rights by imprisoning them for failure to pay fines without assessing their ability to pay or considering alternatives to imprisonment, violated the constitutional rights of indigent residents through illegal jailing, and whether the City of Montgomery will be held in contempt for willful violation of court orders regarding jailing individuals for inability to pay debts and violations of due process; as well as determining the legal claims against The City of Montgomery and others under the 42:1983 Civil Rights Act.\", 'Rule': 'The relevant laws and legal principles applicable include 42 U.S.C. § 1983, 18 U.S.C. § 1595, 28 U.S.C. § 1331, Fourth, Sixth, Thirteenth, and Fourteenth Amendments to the United States Constitution, Bearden v. Georgia, 461 U.S. 660 (1983), federal injunctions prohibiting the jailing of individuals for inability to pay debts, violations of due process, federal laws, Rules of Professional Ethics, and the 42:1983 Civil Rights Act providing individuals the right to seek relief for violations of their constitutional rights by state actors in federal court.', 'Application': \"The Plaintiffs were unlawfully jailed by the City of Montgomery without proper inquiry or counsel due to inability to pay debts, leading to vindication of their rights through legal actions and agreements for release, reduced debts, and ongoing fear of re-imprisonment. The City's policies were found to violate Plaintiffs' rights, indicating systemic illegal practices, exploitation of indigent individuals, and ongoing unjust conduct. The court granted preliminary injunctions in favor of the Plaintiffs, ordering the City not to collect outstanding fines, submit a plan on determining ability to pay and alternatives to imprisonment, and comply with all applicable laws and rules. Plaintiffs sought declaratory and injunctive relief for constitutional violations related to illegal jailing of indigent residents, resulting in a Settlement Agreement with continued court oversight. The City continued its unlawful conduct despite court orders, leading to potential civil contempt sanctions and ongoing investigations. The court proceedings involved various motions, orders, and settlement agreements with compliance requirements and telephonic conferences.\", 'Conclusion': \"The City of Montgomery's actions were deemed unlawful, leading to agreements for release and reduced debts for the Plaintiffs. The court found violations of constitutional amendments and federal laws, highlighting the ongoing fear and exploitation faced by poor residents due to the City's practices. Preliminary injunctions were issued to protect the Plaintiffs' rights, with continued court jurisdiction for enforcement. The City of Montgomery may face potential civil contempt sanctions and investigations into the extent of violations, with possible criminal contempt proceedings. Final judgments were entered for compliance with settlement agreements, while issues of damages and attorneys' fees are scheduled for further resolution.\"}\n",
            "Issue\n",
            "The main legal question in the case is whether the City of Montgomery violated the Plaintiffs' rights by jailing them for inability to pay debts from traffic tickets, violated their Fourteenth Amendment due process and equal protection rights by imprisoning them for failure to pay fines without assessing their ability to pay or considering alternatives to imprisonment, violated the constitutional rights of indigent residents through illegal jailing, and whether the City of Montgomery will be held in contempt for willful violation of court orders regarding jailing individuals for inability to pay debts and violations of due process; as well as determining the legal claims against The City of Montgomery and others under the 42:1983 Civil Rights Act.\n",
            "Rule\n",
            "The relevant laws and legal principles applicable include 42 U.S.C. § 1983, 18 U.S.C. § 1595, 28 U.S.C. § 1331, Fourth, Sixth, Thirteenth, and Fourteenth Amendments to the United States Constitution, Bearden v. Georgia, 461 U.S. 660 (1983), federal injunctions prohibiting the jailing of individuals for inability to pay debts, violations of due process, federal laws, Rules of Professional Ethics, and the 42:1983 Civil Rights Act providing individuals the right to seek relief for violations of their constitutional rights by state actors in federal court.\n",
            "Application\n",
            "The Plaintiffs were unlawfully jailed by the City of Montgomery without proper inquiry or counsel due to inability to pay debts, leading to vindication of their rights through legal actions and agreements for release, reduced debts, and ongoing fear of re-imprisonment. The City's policies were found to violate Plaintiffs' rights, indicating systemic illegal practices, exploitation of indigent individuals, and ongoing unjust conduct. The court granted preliminary injunctions in favor of the Plaintiffs, ordering the City not to collect outstanding fines, submit a plan on determining ability to pay and alternatives to imprisonment, and comply with all applicable laws and rules. Plaintiffs sought declaratory and injunctive relief for constitutional violations related to illegal jailing of indigent residents, resulting in a Settlement Agreement with continued court oversight. The City continued its unlawful conduct despite court orders, leading to potential civil contempt sanctions and ongoing investigations. The court proceedings involved various motions, orders, and settlement agreements with compliance requirements and telephonic conferences.\n",
            "Conclusion\n",
            "The City of Montgomery's actions were deemed unlawful, leading to agreements for release and reduced debts for the Plaintiffs. The court found violations of constitutional amendments and federal laws, highlighting the ongoing fear and exploitation faced by poor residents due to the City's practices. Preliminary injunctions were issued to protect the Plaintiffs' rights, with continued court jurisdiction for enforcement. The City of Montgomery may face potential civil contempt sanctions and investigations into the extent of violations, with possible criminal contempt proceedings. Final judgments were entered for compliance with settlement agreements, while issues of damages and attorneys' fees are scheduled for further resolution.\n",
            "{'Issue': 'Whether the City of Montgomery, Alabama, violated the rights of the citizens under 42 U.S.C. §1983 by imprisoning individuals for failing to pay traffic fines without assessing their ability to pay.', 'Rule': 'Relevant law: 42 U.S.C. §1983 allows individuals to sue for violations of their constitutional rights by state or local government officials; in this case, the claim is based on imprisonment for failure to pay fines without determining ability to pay.', 'Application': 'The citizens of Montgomery, Alabama sued the City for violating their rights under 42 U.S.C. §1983 by alleging that they were imprisoned for not paying traffic fines without considering their financial circumstances. The court proceedings involved a preliminary injunction being granted and a settlement agreement being reached, wherein the City agreed to operational changes to address the issues raised by the plaintiffs. The case was closed after the settlement agreement was implemented, and subsequent issues were resolved through corrective actions by the defendants.', 'Conclusion': \"The case concluded with the jurisdiction over the settlement agreement, resolution of attorneys' fees, and corrective actions taken by the defendants in response to alleged violations, demonstrating a commitment to complying with the terms of the agreement.\"}\n",
            "Issue\n",
            "Whether the City of Montgomery, Alabama, violated the rights of the citizens under 42 U.S.C. §1983 by imprisoning individuals for failing to pay traffic fines without assessing their ability to pay.\n",
            "Rule\n",
            "Relevant law: 42 U.S.C. §1983 allows individuals to sue for violations of their constitutional rights by state or local government officials; in this case, the claim is based on imprisonment for failure to pay fines without determining ability to pay.\n",
            "Application\n",
            "The citizens of Montgomery, Alabama sued the City for violating their rights under 42 U.S.C. §1983 by alleging that they were imprisoned for not paying traffic fines without considering their financial circumstances. The court proceedings involved a preliminary injunction being granted and a settlement agreement being reached, wherein the City agreed to operational changes to address the issues raised by the plaintiffs. The case was closed after the settlement agreement was implemented, and subsequent issues were resolved through corrective actions by the defendants.\n",
            "Conclusion\n",
            "The case concluded with the jurisdiction over the settlement agreement, resolution of attorneys' fees, and corrective actions taken by the defendants in response to alleged violations, demonstrating a commitment to complying with the terms of the agreement.\n"
          ]
        }
      ],
      "source": [
        "# specify indices in source to process\n",
        "idx = 0\n",
        "source0, sum0, sim0 = process_source(idx)\n",
        "save_factsheet(source0, save_path + f'{ids[idx]}_source')\n",
        "save_factsheet(sum0, save_path + f'{ids[idx]}_summary')"
      ]
    },
    {
      "cell_type": "code",
      "execution_count": 24,
      "metadata": {
        "colab": {
          "base_uri": "https://localhost:8080/"
        },
        "id": "UdiGMb4napmv",
        "outputId": "2d938d12-6d69-4e0a-8cb6-996c127cca13"
      },
      "outputs": [
        {
          "output_type": "stream",
          "name": "stdout",
          "text": [
            "Analyzing case CJ-AL-0020\n",
            "Generating fact sheet for each document in source...\n",
            "{\n",
            "    \"case_info\": \"Case: 2:13-cv-732\\nAs of: 01/18/2019 10:59 AM CST\\nCLOSED,JOINT_ASSIGN,LEAD\\nU.S. District Court Alabama Middle District (Montgomery) CIVIL DOCKET FOR CASE #: 2:13−cv−00732−MHT−TFM\",\n",
            "    \"parties\": \"Harriet Delores Cleveland, Markis Antwuan Watts, City of Montgomery, Milton J. Westry, Les Hayes III\",\n",
            "    \"legal_basis\": \"42:1983 Civil Rights Act\",\n",
            "    \"case_background\": \"Plaintiff Harriet Delores Cleveland filed the case on 10/04/2013, related to Civil Rights. The case involved multiple defendants from the City of Montgomery.\",\n",
            "    \"court_proceedings\": \"Various motions and orders were filed and issued, including petitions, answers, motions to consolidate cases, discovery plans, scheduling orders, and motions to compel.\",\n",
            "    \"settlement_and_agreements\": \"There were motions for protective orders, extensions of deadlines, and joint motions for settlement agreements filed by both the plaintiffs and defendants.\",\n",
            "    \"outcome_and_impact\": \"The case concluded with a judgment where the joint motion for entry of an agreed settlement order was granted, leading to the closure of the cases.\",\n",
            "    \"miscellaneous\": \"Multiple attorneys represented the parties throughout the proceedings, and the case involved several court-ordered conferences and status updates.\"\n",
            "}\n",
            "{\n",
            "    \"Issue\": \"Whether the joint motion for entry of an agreed settlement order should be granted.\",\n",
            "    \"Rule\": \"The relevant legal principle applicable to the case is the 42:1983 Civil Rights Act.\",\n",
            "    \"Application\": \"Plaintiff Harriet Delores Cleveland filed a case related to Civil Rights against multiple defendants from the City of Montgomery. Various court proceedings including motions, orders, and settlement agreements were made throughout the case. Ultimately, a joint motion for entry of an agreed settlement order was filed and granted, leading to the closure of the cases.\",\n",
            "    \"Conclusion\": \"The case concluded with the joint motion for entry of an agreed settlement order being granted, resulting in the closure of the case.\"\n",
            "}\n",
            "{\n",
            "    \"case_info\": \"Case 2:13-cv-00732-MHT-TFM\",\n",
            "    \"parties\": \"Petitioner: Harriet Delores Cleveland, Respondents: City of Montgomery\",\n",
            "    \"legal_basis\": \"Violation of due process and equal protection rights, Right to counsel under the United States and Alabama Constitutions\",\n",
            "    \"case_background\": \"Harriet Delores Cleveland incurred traffic tickets in 2008 and 2009 and faced incarceration for failure to pay fines. She had financial difficulties and was unable to pay the fines imposed.\",\n",
            "    \"court_proceedings\": \"Petitioner filed a petition for declaratory relief and a writ of certiorari in the Montgomery Municipal Court seeking relief from the incarceration order due to violations of constitutional rights.\",\n",
            "    \"settlement_and_agreements\": \"Seeking relief from the court to quash the order of confinement and declare it a violation of constitutional rights.\",\n",
            "    \"outcome_and_impact\": \"Pending resolution of the appeal, seeking to establish a precedent regarding the treatment of indigent individuals in similar situations.\",\n",
            "    \"miscellaneous\": \"Representation by Southern Poverty Law Center, Inc. with attorney Sara Zampierin.\"\n",
            "}\n",
            "```json\n",
            "{\n",
            "    \"Issue\": \"Violation of due process and equal protection rights, Right to counsel under the United States and Alabama Constitutions\",\n",
            "    \"Rule\": \"Applicable laws and legal principles related to due process, equal protection, and right to counsel under the United States Constitution and Alabama Constitution\",\n",
            "    \"Application\": \"Harriet Delores Cleveland faced incarceration for failure to pay fines related to traffic tickets due to financial difficulties. She filed a petition in Montgomery Municipal Court claiming violations of her constitutional rights, seeking relief from the incarceration order. The case aims to establish a precedent for the treatment of indigent individuals facing similar situations.\",\n",
            "    \"Conclusion\": \"The outcome of the case is pending resolution, with the petitioner seeking relief from the court to quash the order of confinement and declare it a violation of constitutional rights. The petitioner is represented by the Southern Poverty Law Center, Inc. with attorney Sara Zampierin.\"\n",
            "}\n",
            "```  \n",
            "{\n",
            "    \"case_info\": \"Case No. 2:13-cv-00732-MEF-TFM\",\n",
            "    \"parties\": [\"Plaintiff: Harriet Delores Cleveland\", \"Defendant: City of Montgomery\", \"Defendant: The Honorable Milton J. Westry\"],\n",
            "    \"legal_basis\": \"Violation of constitutional rights to due process, equal protection, and counsel under the U.S. and Alabama Constitutions.\",\n",
            "    \"case_background\": \"Plaintiff ordered to be incarcerated due to inability to pay traffic tickets, faced financial struggles after losing full-time job, arrested for non-payment of fines, challenged collection procedures and practices.\",\n",
            "    \"court_proceedings\": \"Plaintiff filed the action in the Circuit Court of Montgomery County, later removed to the U.S. District Court for the Middle District of Alabama. Claims under 42 U.S.C. § 1983 and U.S. Constitution rights.\",\n",
            "    \"settlement_and_agreements\": \"Plaintiff seeks a declaration that the defendants' actions violated her constitutional rights. Defendants have agreed to stay enforcement of the incarceration order.\",\n",
            "    \"outcome_and_impact\": \"Pending court ruling on violations of Fourteenth Amendment rights and Sixth Amendment rights. Seeking declaratory judgment and relief of attorneys' fees.\",\n",
            "    \"miscellaneous\": \"Defendants' policies include offering alternative jail time for non-payment of fines, lack of indigency determinations, and past instances of similar incarcerations due to inability to pay fines.\"\n",
            "}\n",
            "```json\n",
            "{\n",
            "    \"Issue\": \"Whether the actions of the City of Montgomery and Judge Westry violated the plaintiff's constitutional rights to due process, equal protection, and counsel under the U.S. and Alabama Constitutions.\",\n",
            "    \"Rule\": \"Relevant laws include the Fourteenth Amendment rights to due process and equal protection, as well as the Sixth Amendment right to counsel under the U.S. and Alabama Constitutions.\",\n",
            "    \"Application\": \"The plaintiff was ordered to be incarcerated due to inability to pay traffic tickets, which led to a legal challenge regarding collection procedures and practices. The case involves claims under 42 U.S.C. § 1983, alleging violations of constitutional rights. The defendants have agreed to stay enforcement of the incarceration order pending a court ruling on the violations. Issues include lack of indigency determinations, past instances of similar incarcerations for non-payment of fines, and the plaintiff's financial struggles after losing a full-time job.\",\n",
            "    \"Conclusion\": \"The case is ongoing with the court yet to rule on the violations of Fourteenth Amendment rights and Sixth Amendment rights. The plaintiff seeks a declaratory judgment and relief of attorneys' fees related to the alleged constitutional violations.\",\n",
            "}\n",
            "```  \n",
            "{\n",
            "    \"case_info\": \"Case No: 2:13-cv-732- MHT-TFM\",\n",
            "    \"parties\": \"Plaintiff: HARRIET DELORES CLEVELAND, MARKIS ANTWUAN WATTS, Defendants: CITY OF MONTGOMERY, et al.\",\n",
            "    \"legal_basis\": \"Plaintiffs allege violations of the Fourteenth and Sixth Amendment to the U.S. Constitution, sections 1, 6, and 22 of the Alabama Constitution, and Rule 26.11 of the Alabama Rules of Criminal Procedure.\",\n",
            "    \"case_background\": \"Plaintiffs were illegally jailed for non-payment of fines, fees, and costs at the Montgomery Municipal Court in August 2013.\",\n",
            "    \"court_proceedings\": \"Plaintiffs filed petitions for writ of certiorari, removed to federal court, answered by Defendants, and consolidated. Discovery commenced.\",\n",
            "    \"settlement_and_agreements\": \"Parties agreed to private mediation resulting in agreed Judicial Procedures for indigent defendants and non-payment, subsequent joint brief.\",\n",
            "    \"outcome_and_impact\": \"Court granted Amended Joint Motion for Entry of Agreed Settlement Order, declared compliance with constitutional principles cited, and reached a final resolution in the case.\",\n",
            "    \"miscellaneous\": \"The agreed Judicial Procedures provide for legal representation, financial inquiries, alternatives to incarceration, and comply with federal and state laws and rules of procedure.\"\n",
            "}\n",
            "```json\n",
            "{\n",
            "    \"Issue\": \"Did the Defendants violate the plaintiffs' constitutional rights by illegally jailing them for non-payment of fines, fees, and costs?\",\n",
            "    \"Rule\": \"Plaintiffs allege violations of the Fourteenth and Sixth Amendment to the U.S. Constitution, sections 1, 6, and 22 of the Alabama Constitution, and Rule 26.11 of the Alabama Rules of Criminal Procedure.\",\n",
            "    \"Application\": \"Plaintiffs were illegally jailed for non-payment of fines, fees, and costs at the Montgomery Municipal Court in August 2013. The parties engaged in court proceedings, filed petitions for writ of certiorari, and eventually agreed to private mediation resulting in agreed Judicial Procedures for indigent defendants. These procedures included legal representation, financial inquiries, and alternatives to incarceration, complying with federal and state laws and rules of procedure. The court granted the Amended Joint Motion for Entry of Agreed Settlement Order, affirming compliance with constitutional principles and reaching a final resolution in the case.\",\n",
            "    \"Conclusion\": \"The court declared compliance with constitutional principles cited in the lawsuit and ratified the agreed Judicial Procedures for indigent defendants. The case was resolved through the court's approval of the settlement agreement.\"\n",
            "}\n",
            "```\n",
            "```json\n",
            "{\n",
            "    \"case_info\": \"Civil case in the District Court of the United States for the Middle District of Alabama, Northern Division involving Plaintiff Harriet Delores Cleveland and Plaintiff Markis Antwuan Watts against the City of Montgomery and municipal judges.\",\n",
            "    \"parties\": \"Harriet Delores Cleveland, Markis Antwuan Watts, City of Montgomery, Honorable Milton J. Westry, Honorable Les Hayes III\",\n",
            "    \"legal_basis\": \"Claims based on the Sixth and Fourteenth Amendments of the U.S. Constitution, Article I of the Alabama Constitution, and the Alabama Rules of Criminal Procedure.\",\n",
            "    \"case_background\": \"Plaintiffs were allegedly jailed for being unable to pay parking fines, leading to legal action against the City of Montgomery and two municipal judges.\",\n",
            "    \"court_proceedings\": \"Cases were consolidated in federal court following removal from state court. Stay of incarceration orders was agreed upon pending discovery. Private mediation led to the development of judicial procedures ensuring debtors are not jailed due to inability to pay fines.\",\n",
            "    \"settlement_and_agreements\": \"Agreed-upon procedures include access to counsel, notification forms, indigence/ability-to-pay hearings, and judicial findings to prevent incarceration for non-payment.\",\n",
            "    \"outcome_and_impact\": \"The proposed judicial procedures were found to facially comply with federal and state law requirements regarding incarceration for non-payment and due process for indigent debtors.\",\n",
            "    \"miscellaneous\": \"The case addresses the issue of equal justice for poor and rich individuals, seeking to prevent imprisonment solely due to inability to pay fines.\"\n",
            "}\n",
            "```\n",
            "```json\n",
            "{\n",
            "    \"Issue\": \"The main legal question in the case is whether the judicial procedures developed through private mediation comply with federal and state law requirements regarding incarceration for non-payment of fines and due process for indigent debtors.\",\n",
            "    \"Rule\": \"Relevant laws and legal principles applicable to the case include the Sixth and Fourteenth Amendments of the U.S. Constitution, Article I of the Alabama Constitution, and the Alabama Rules of Criminal Procedure which guarantee due process and equal protection under the law, especially regarding incarceration for inability to pay fines.\",\n",
            "    \"Application\": \"The judicial procedures agreed upon in the settlement, such as access to counsel, notification forms, indigence/ability-to-pay hearings, and judicial findings to prevent incarceration for non-payment, were assessed and found to facially comply with the legal requirements set forth by federal and state laws.\",\n",
            "    \"Conclusion\": \"As a result, the proposed judicial procedures were deemed compliant with the applicable legal standards, thereby aiming to ensure that individuals are not imprisoned solely due to their inability to pay fines, promoting equal justice for both poor and rich individuals in the legal system.\"\n",
            "}\n",
            "```  \n",
            "```json\n",
            "{\n",
            "    \"case_info\": \"Case 2:13-cv-00732-MHT-TFM Document 59 Filed 11/17/14 Page 1 of 3\",\n",
            "    \"parties\": \"Harriet Delores Cleveland, City of Montgomery, The Honorable Milton J. Westry, Markis Antwuan Watts, The Honorable Les Hayes III\",\n",
            "    \"legal_basis\": \"Constitutional principles set out in Bearden v. Georgia and Turner v. Rogers apply in municipal-court proceedings. The Judicial Procedures of the Municipal Court of the City of Montgomery comply with constitutional principles and legal requirements.\",\n",
            "    \"case_background\": \"The case involves issues related to incarceration for non-payment and notice requirements in municipal-court proceedings in Montgomery.\",\n",
            "    \"court_proceedings\": \"Joint motion for entry of agreed settlement order was granted. The court declared that the constitutional principles and judicial procedures comply with relevant laws.\",\n",
            "    \"settlement_and_agreements\": \"Parties reached an agreed settlement order regarding the constitutional rights and procedures in municipal-court proceedings in Montgomery.\",\n",
            "    \"outcome_and_impact\": \"The court declared compliance with constitutional principles and legal requirements, closing the cases on 17th November 2014.\",\n",
            "    \"miscellaneous\": \"New fee for filing an appeal effective from December 1, 2013, increased from $455.00 to $505.00. Jurisdiction checklist for civil appeals has been outlined, emphasizing the mandatory and jurisdictional aspects of filing a notice of appeal.\"\n",
            "}\n",
            "```\n",
            "```json\n",
            "{\n",
            "    \"Issue\": \"Application of constitutional principles in municipal-court proceedings for incarceration due to non-payment and notice requirements.\",\n",
            "    \"Rule\": \"Constitutional principles from Bearden v. Georgia and Turner v. Rogers are applicable. Judicial Procedures of the Municipal Court of the City of Montgomery must comply with these constitutional principles and legal requirements.\",\n",
            "    \"Application\": \"The court determined that the agreed settlement order confirmed compliance with constitutional principles and legal requirements in the municipal-court proceedings in Montgomery. The new fee for filing an appeal and jurisdiction checklist for civil appeals have been outlined to ensure adherence to mandatory and jurisdictional aspects of the appeal process.\",\n",
            "    \"Conclusion\": \"On November 17, 2014, the court closed the cases declaring compliance with constitutional principles and legal requirements, following the joint motion for entry of the agreed settlement order.\"\n",
            "}\n",
            "```  \n",
            "Combining source fact sheets...\n",
            "```json\n",
            "{\n",
            "    \"Issue\": \"The main legal questions in the case are whether the judicial procedures developed through private mediation comply with federal and state law requirements regarding incarceration for non-payment of fines and due process for indigent debtors, violation of due process and equal protection rights, right to counsel under the United States and Alabama Constitutions, whether the actions of the City of Montgomery and Judge Westry violated the plaintiff's constitutional rights to due process, equal protection, and counsel under the U.S. and Alabama Constitutions, and whether the Defendants violated the plaintiffs' constitutional rights by illegally jailing them for non-payment of fines, fees, and costs, and the application of constitutional principles in municipal-court proceedings for incarceration due to non-payment and notice requirements.\",\n",
            "    \"Rule\": \"The relevant legal principles applicable to the case include the 42:1983 Civil Rights Act, applicable laws and legal principles related to due process, equal protection, and right to counsel under the United States Constitution and Alabama Constitution, Fourteenth Amendment rights to due process and equal protection, as well as the Sixth Amendment right to counsel under the U.S. and Alabama Constitutions, plaintiffs allege violations of the Fourteenth and Sixth Amendment to the U.S. Constitution, sections 1, 6, and 22 of the Alabama Constitution, and Rule 26.11 of the Alabama Rules of Criminal Procedure, relevant laws include the Sixth and Fourteenth Amendments of the U.S. Constitution, Article I of the Alabama Constitution, and the Alabama Rules of Criminal Procedure, constitutional principles from Bearden v. Georgia and Turner v. Rogers are applicable.\",\n",
            "    \"Application\": \"Plaintiff Harriet Delores Cleveland filed a case related to Civil Rights against multiple defendants from the City of Montgomery. Various court proceedings including motions, orders, and settlement agreements were made throughout the case. Ultimately, a joint motion for entry of an agreed settlement order was filed and granted, leading to the closure of the cases. Harriet Delores Cleveland faced incarceration for failure to pay fines related to traffic tickets due to financial difficulties. She filed a petition in Montgomery Municipal Court claiming violations of her constitutional rights, seeking relief from the incarceration order. The case aims to establish a precedent for the treatment of indigent individuals facing similar situations. The plaintiff was ordered to be incarcerated due to inability to pay traffic tickets, which led to a legal challenge regarding collection procedures and practices. The case involves claims under 42 U.S.C. § 1983, alleging violations of constitutional rights. The defendants have agreed to stay enforcement of the incarceration order pending a court ruling on the violations. Issues include lack of indigency determinations, past instances of similar incarcerations for non-payment of fines, and the plaintiff's financial struggles after losing a full-time job. Plaintiffs were illegally jailed for non-payment of fines, fees, and costs at the Montgomery Municipal Court in August 2013. The parties engaged in court proceedings, filed petitions for writ of certiorari, and eventually agreed to private mediation resulting in agreed Judicial Procedures for indigent defendants. These procedures included legal representation, financial inquiries, and alternatives to incarceration, complying with federal and state laws and rules of procedure. The court granted the Amended Joint Motion for Entry of Agreed Settlement Order, affirming compliance with constitutional principles and reaching a final resolution in the case. The judicial procedures agreed upon in the settlement, such as access to counsel, notification forms, indigence/ability-to-pay hearings, and judicial findings to prevent incarceration for non-payment, were assessed and found to facially comply with the legal requirements set forth by federal and state laws. The court determined that the agreed settlement order confirmed compliance with constitutional principles and legal requirements in the municipal-court proceedings in Montgomery. The new fee for filing an appeal and jurisdiction checklist for civil appeals have been outlined to ensure adherence to mandatory and jurisdictional aspects of the appeal process.\",\n",
            "    \"Conclusion\": \"The case concluded with the joint motion for entry of an agreed settlement order being granted, resulting in the closure of the case. The outcome of the case is pending resolution, with the petitioner seeking relief from the court to quash the order of confinement and declare it a violation of constitutional rights. The petitioner is represented by the Southern Poverty Law Center, Inc. with attorney Sara Zampierin. The case is ongoing with the court yet to rule on the violations of Fourteenth Amendment rights and Sixth Amendment rights. The plaintiff seeks a declaratory judgment and relief of attorneys' fees related to the alleged constitutional violations. The court declared compliance with constitutional principles cited in the lawsuit and ratified the agreed Judicial Procedures for indigent defendants. The case was resolved through the court's approval of the settlement agreement. On November 17, 2014, the court closed the cases declaring compliance with constitutional principles and legal requirements, following the joint motion for entry of the agreed settlement order.\"\n",
            "}\n",
            "```\n",
            "Generating summary sheet...\n",
            "```json\n",
            "{\n",
            "    \"Issue\": \"Whether the Municipal Court order for a 54-day imprisonment term due to unpaid fines violated the plaintiff's constitutional rights.\",\n",
            "    \"Rule\": \"Relevant laws applicable include violations of the Sixth Amendment, due process, and equal protection clause under 42 U.S.C. § 1983.\",\n",
            "    \"Application\": \"The plaintiff, an indigent detainee, faced imprisonment for unpaid fines without legal representation, triggering a lawsuit under 42 U.S.C. § 1983. The case was removed to the United States District Court, where a settlement order detailing acceptable judicial procedures was agreed upon through private mediation, aligning with constitutional principles.\",\n",
            "    \"Conclusion\": \"Final judgment was entered approving the judicial procedures for indigent defendants, thereby closing the case and establishing practices compliant with constitutional requirements.\"\n",
            "}\n",
            "```  \n",
            "Cosine Similarity: 0.6543896585082685\n",
            "{'Issue': \"The main legal questions in the case are whether the judicial procedures developed through private mediation comply with federal and state law requirements regarding incarceration for non-payment of fines and due process for indigent debtors, violation of due process and equal protection rights, right to counsel under the United States and Alabama Constitutions, whether the actions of the City of Montgomery and Judge Westry violated the plaintiff's constitutional rights to due process, equal protection, and counsel under the U.S. and Alabama Constitutions, and whether the Defendants violated the plaintiffs' constitutional rights by illegally jailing them for non-payment of fines, fees, and costs, and the application of constitutional principles in municipal-court proceedings for incarceration due to non-payment and notice requirements.\", 'Rule': 'The relevant legal principles applicable to the case include the 42:1983 Civil Rights Act, applicable laws and legal principles related to due process, equal protection, and right to counsel under the United States Constitution and Alabama Constitution, Fourteenth Amendment rights to due process and equal protection, as well as the Sixth Amendment right to counsel under the U.S. and Alabama Constitutions, plaintiffs allege violations of the Fourteenth and Sixth Amendment to the U.S. Constitution, sections 1, 6, and 22 of the Alabama Constitution, and Rule 26.11 of the Alabama Rules of Criminal Procedure, relevant laws include the Sixth and Fourteenth Amendments of the U.S. Constitution, Article I of the Alabama Constitution, and the Alabama Rules of Criminal Procedure, constitutional principles from Bearden v. Georgia and Turner v. Rogers are applicable.', 'Application': \"Plaintiff Harriet Delores Cleveland filed a case related to Civil Rights against multiple defendants from the City of Montgomery. Various court proceedings including motions, orders, and settlement agreements were made throughout the case. Ultimately, a joint motion for entry of an agreed settlement order was filed and granted, leading to the closure of the cases. Harriet Delores Cleveland faced incarceration for failure to pay fines related to traffic tickets due to financial difficulties. She filed a petition in Montgomery Municipal Court claiming violations of her constitutional rights, seeking relief from the incarceration order. The case aims to establish a precedent for the treatment of indigent individuals facing similar situations. The plaintiff was ordered to be incarcerated due to inability to pay traffic tickets, which led to a legal challenge regarding collection procedures and practices. The case involves claims under 42 U.S.C. § 1983, alleging violations of constitutional rights. The defendants have agreed to stay enforcement of the incarceration order pending a court ruling on the violations. Issues include lack of indigency determinations, past instances of similar incarcerations for non-payment of fines, and the plaintiff's financial struggles after losing a full-time job. Plaintiffs were illegally jailed for non-payment of fines, fees, and costs at the Montgomery Municipal Court in August 2013. The parties engaged in court proceedings, filed petitions for writ of certiorari, and eventually agreed to private mediation resulting in agreed Judicial Procedures for indigent defendants. These procedures included legal representation, financial inquiries, and alternatives to incarceration, complying with federal and state laws and rules of procedure. The court granted the Amended Joint Motion for Entry of Agreed Settlement Order, affirming compliance with constitutional principles and reaching a final resolution in the case. The judicial procedures agreed upon in the settlement, such as access to counsel, notification forms, indigence/ability-to-pay hearings, and judicial findings to prevent incarceration for non-payment, were assessed and found to facially comply with the legal requirements set forth by federal and state laws. The court determined that the agreed settlement order confirmed compliance with constitutional principles and legal requirements in the municipal-court proceedings in Montgomery. The new fee for filing an appeal and jurisdiction checklist for civil appeals have been outlined to ensure adherence to mandatory and jurisdictional aspects of the appeal process.\", 'Conclusion': \"The case concluded with the joint motion for entry of an agreed settlement order being granted, resulting in the closure of the case. The outcome of the case is pending resolution, with the petitioner seeking relief from the court to quash the order of confinement and declare it a violation of constitutional rights. The petitioner is represented by the Southern Poverty Law Center, Inc. with attorney Sara Zampierin. The case is ongoing with the court yet to rule on the violations of Fourteenth Amendment rights and Sixth Amendment rights. The plaintiff seeks a declaratory judgment and relief of attorneys' fees related to the alleged constitutional violations. The court declared compliance with constitutional principles cited in the lawsuit and ratified the agreed Judicial Procedures for indigent defendants. The case was resolved through the court's approval of the settlement agreement. On November 17, 2014, the court closed the cases declaring compliance with constitutional principles and legal requirements, following the joint motion for entry of the agreed settlement order.\"}\n",
            "Issue\n",
            "The main legal questions in the case are whether the judicial procedures developed through private mediation comply with federal and state law requirements regarding incarceration for non-payment of fines and due process for indigent debtors, violation of due process and equal protection rights, right to counsel under the United States and Alabama Constitutions, whether the actions of the City of Montgomery and Judge Westry violated the plaintiff's constitutional rights to due process, equal protection, and counsel under the U.S. and Alabama Constitutions, and whether the Defendants violated the plaintiffs' constitutional rights by illegally jailing them for non-payment of fines, fees, and costs, and the application of constitutional principles in municipal-court proceedings for incarceration due to non-payment and notice requirements.\n",
            "Rule\n",
            "The relevant legal principles applicable to the case include the 42:1983 Civil Rights Act, applicable laws and legal principles related to due process, equal protection, and right to counsel under the United States Constitution and Alabama Constitution, Fourteenth Amendment rights to due process and equal protection, as well as the Sixth Amendment right to counsel under the U.S. and Alabama Constitutions, plaintiffs allege violations of the Fourteenth and Sixth Amendment to the U.S. Constitution, sections 1, 6, and 22 of the Alabama Constitution, and Rule 26.11 of the Alabama Rules of Criminal Procedure, relevant laws include the Sixth and Fourteenth Amendments of the U.S. Constitution, Article I of the Alabama Constitution, and the Alabama Rules of Criminal Procedure, constitutional principles from Bearden v. Georgia and Turner v. Rogers are applicable.\n",
            "Application\n",
            "Plaintiff Harriet Delores Cleveland filed a case related to Civil Rights against multiple defendants from the City of Montgomery. Various court proceedings including motions, orders, and settlement agreements were made throughout the case. Ultimately, a joint motion for entry of an agreed settlement order was filed and granted, leading to the closure of the cases. Harriet Delores Cleveland faced incarceration for failure to pay fines related to traffic tickets due to financial difficulties. She filed a petition in Montgomery Municipal Court claiming violations of her constitutional rights, seeking relief from the incarceration order. The case aims to establish a precedent for the treatment of indigent individuals facing similar situations. The plaintiff was ordered to be incarcerated due to inability to pay traffic tickets, which led to a legal challenge regarding collection procedures and practices. The case involves claims under 42 U.S.C. § 1983, alleging violations of constitutional rights. The defendants have agreed to stay enforcement of the incarceration order pending a court ruling on the violations. Issues include lack of indigency determinations, past instances of similar incarcerations for non-payment of fines, and the plaintiff's financial struggles after losing a full-time job. Plaintiffs were illegally jailed for non-payment of fines, fees, and costs at the Montgomery Municipal Court in August 2013. The parties engaged in court proceedings, filed petitions for writ of certiorari, and eventually agreed to private mediation resulting in agreed Judicial Procedures for indigent defendants. These procedures included legal representation, financial inquiries, and alternatives to incarceration, complying with federal and state laws and rules of procedure. The court granted the Amended Joint Motion for Entry of Agreed Settlement Order, affirming compliance with constitutional principles and reaching a final resolution in the case. The judicial procedures agreed upon in the settlement, such as access to counsel, notification forms, indigence/ability-to-pay hearings, and judicial findings to prevent incarceration for non-payment, were assessed and found to facially comply with the legal requirements set forth by federal and state laws. The court determined that the agreed settlement order confirmed compliance with constitutional principles and legal requirements in the municipal-court proceedings in Montgomery. The new fee for filing an appeal and jurisdiction checklist for civil appeals have been outlined to ensure adherence to mandatory and jurisdictional aspects of the appeal process.\n",
            "Conclusion\n",
            "The case concluded with the joint motion for entry of an agreed settlement order being granted, resulting in the closure of the case. The outcome of the case is pending resolution, with the petitioner seeking relief from the court to quash the order of confinement and declare it a violation of constitutional rights. The petitioner is represented by the Southern Poverty Law Center, Inc. with attorney Sara Zampierin. The case is ongoing with the court yet to rule on the violations of Fourteenth Amendment rights and Sixth Amendment rights. The plaintiff seeks a declaratory judgment and relief of attorneys' fees related to the alleged constitutional violations. The court declared compliance with constitutional principles cited in the lawsuit and ratified the agreed Judicial Procedures for indigent defendants. The case was resolved through the court's approval of the settlement agreement. On November 17, 2014, the court closed the cases declaring compliance with constitutional principles and legal requirements, following the joint motion for entry of the agreed settlement order.\n",
            "{'Issue': \"Whether the Municipal Court order for a 54-day imprisonment term due to unpaid fines violated the plaintiff's constitutional rights.\", 'Rule': 'Relevant laws applicable include violations of the Sixth Amendment, due process, and equal protection clause under 42 U.S.C. § 1983.', 'Application': 'The plaintiff, an indigent detainee, faced imprisonment for unpaid fines without legal representation, triggering a lawsuit under 42 U.S.C. § 1983. The case was removed to the United States District Court, where a settlement order detailing acceptable judicial procedures was agreed upon through private mediation, aligning with constitutional principles.', 'Conclusion': 'Final judgment was entered approving the judicial procedures for indigent defendants, thereby closing the case and establishing practices compliant with constitutional requirements.'}\n",
            "Issue\n",
            "Whether the Municipal Court order for a 54-day imprisonment term due to unpaid fines violated the plaintiff's constitutional rights.\n",
            "Rule\n",
            "Relevant laws applicable include violations of the Sixth Amendment, due process, and equal protection clause under 42 U.S.C. § 1983.\n",
            "Application\n",
            "The plaintiff, an indigent detainee, faced imprisonment for unpaid fines without legal representation, triggering a lawsuit under 42 U.S.C. § 1983. The case was removed to the United States District Court, where a settlement order detailing acceptable judicial procedures was agreed upon through private mediation, aligning with constitutional principles.\n",
            "Conclusion\n",
            "Final judgment was entered approving the judicial procedures for indigent defendants, thereby closing the case and establishing practices compliant with constitutional requirements.\n"
          ]
        }
      ],
      "source": [
        "# specify indices in source to process\n",
        "idx = 1\n",
        "source1, sum1, sim1 = process_source(idx)\n",
        "save_factsheet(source1, save_path + f'{ids[idx]}_source')\n",
        "save_factsheet(sum1, save_path + f'{ids[idx]}_summary')"
      ]
    }
  ],
  "metadata": {
    "colab": {
      "provenance": []
    },
    "kernelspec": {
      "display_name": "Python 3",
      "name": "python3"
    },
    "language_info": {
      "name": "python"
    }
  },
  "nbformat": 4,
  "nbformat_minor": 0
}