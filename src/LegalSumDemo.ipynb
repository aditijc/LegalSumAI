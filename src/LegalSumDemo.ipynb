{
  "cells": [
    {
      "cell_type": "markdown",
      "metadata": {
        "id": "7rl8UxzBOL2k"
      },
      "source": [
        "## Environment Setup"
      ]
    },
    {
      "cell_type": "code",
      "execution_count": 4,
      "metadata": {
        "colab": {
          "base_uri": "https://localhost:8080/"
        },
        "id": "M-jGx8NjiWur",
        "outputId": "4a9d5c5e-8596-4655-c098-c7c607b0182a"
      },
      "outputs": [
        {
          "name": "stdout",
          "output_type": "stream",
          "text": [
            "\u001b[34m==>\u001b[0m \u001b[1mDownloading https://formulae.brew.sh/api/formula.jws.json\u001b[0m\n",
            "######################################################################### 100.0%\n",
            "\u001b[34m==>\u001b[0m \u001b[1mDownloading https://formulae.brew.sh/api/cask.jws.json\u001b[0m\n",
            "######################################################################### 100.0%\n",
            "\u001b[33mWarning:\u001b[0m No available formula with the name \"openai\". Did you mean openfa, openvi, openbao, opencc, opencv, opensc or openj9?\n",
            "\u001b[34m==>\u001b[0m \u001b[1mSearching for similarly named formulae and casks...\u001b[0m\n",
            "\u001b[34m==>\u001b[0m \u001b[1mFormulae\u001b[0m\n",
            "openai-whisper      openvi              opencc              opensc\n",
            "openfa              openbao             opencv              openj9\n",
            "\n",
            "To install openai-whisper, run:\n",
            "  brew install openai-whisper\n",
            "\n",
            "\u001b[34m==>\u001b[0m \u001b[1mCasks\u001b[0m\n",
            "openbci   opencat   openlp    openmw    openra    opensc    opensim   opera\n",
            "\n",
            "To install openbci, run:\n",
            "  brew install --cask openbci\n",
            "\u001b[33mWarning:\u001b[0m No available formula with the name \"datasets\". Did you mean datasette?\n",
            "\u001b[34m==>\u001b[0m \u001b[1mSearching for similarly named formulae and casks...\u001b[0m\n",
            "\u001b[34m==>\u001b[0m \u001b[1mFormulae\u001b[0m\n",
            "datasette\n",
            "\n",
            "To install datasette, run:\n",
            "  brew install datasette\n",
            "\n",
            "\u001b[34m==>\u001b[0m \u001b[1mCasks\u001b[0m\n",
            "datasette\n",
            "\n",
            "To install datasette, run:\n",
            "  brew install --cask datasette\n",
            "\u001b[33mWarning:\u001b[0m No available formula with the name \"evaluate\".\n",
            "\u001b[34m==>\u001b[0m \u001b[1mSearching for similarly named formulae and casks...\u001b[0m\n",
            "\u001b[31mError:\u001b[0m No formulae or casks found for evaluate.\n"
          ]
        }
      ],
      "source": [
        "!brew install openai\n",
        "!brew install datasets\n",
        "!brew install evaluate"
      ]
    },
    {
      "cell_type": "code",
      "execution_count": null,
      "metadata": {},
      "outputs": [],
      "source": []
    },
    {
      "cell_type": "code",
      "execution_count": 7,
      "metadata": {
        "id": "rUT2c_svimQo"
      },
      "outputs": [
        {
          "name": "stderr",
          "output_type": "stream",
          "text": [
            "/Users/aditichandrashekar/Library/CloudStorage/OneDrive-CaliforniaInstituteofTechnology/Term9/LegalSumAI/prompting_env/lib/python3.12/site-packages/tqdm/auto.py:21: TqdmWarning: IProgress not found. Please update jupyter and ipywidgets. See https://ipywidgets.readthedocs.io/en/stable/user_install.html\n",
            "  from .autonotebook import tqdm as notebook_tqdm\n"
          ]
        }
      ],
      "source": [
        "import json\n",
        "from openai import OpenAI\n",
        "from IPython.utils.capture import capture_output\n",
        "from datasets import load_dataset\n",
        "import pprint"
      ]
    },
    {
      "cell_type": "code",
      "execution_count": 3,
      "metadata": {
        "colab": {
          "base_uri": "https://localhost:8080/"
        },
        "id": "LgqhAEbkioGt",
        "outputId": "89a5a601-08e8-453b-b249-eaed21940079"
      },
      "outputs": [
        {
          "ename": "ModuleNotFoundError",
          "evalue": "No module named 'google'",
          "output_type": "error",
          "traceback": [
            "\u001b[0;31m---------------------------------------------------------------------------\u001b[0m",
            "\u001b[0;31mModuleNotFoundError\u001b[0m                       Traceback (most recent call last)",
            "Cell \u001b[0;32mIn[3], line 1\u001b[0m\n\u001b[0;32m----> 1\u001b[0m \u001b[38;5;28;01mfrom\u001b[39;00m \u001b[38;5;21;01mgoogle\u001b[39;00m\u001b[38;5;21;01m.\u001b[39;00m\u001b[38;5;21;01mcolab\u001b[39;00m \u001b[38;5;28;01mimport\u001b[39;00m drive\n\u001b[1;32m      2\u001b[0m drive\u001b[38;5;241m.\u001b[39mmount(\u001b[38;5;124m'\u001b[39m\u001b[38;5;124m/content/drive\u001b[39m\u001b[38;5;124m'\u001b[39m)\n\u001b[1;32m      5\u001b[0m get_ipython()\u001b[38;5;241m.\u001b[39mrun_line_magic(\u001b[38;5;124m'\u001b[39m\u001b[38;5;124mcd\u001b[39m\u001b[38;5;124m'\u001b[39m, \u001b[38;5;124m'\u001b[39m\u001b[38;5;124m/content/drive/MyDrive/CS 159 Project\u001b[39m\u001b[38;5;124m'\u001b[39m)\n",
            "\u001b[0;31mModuleNotFoundError\u001b[0m: No module named 'google'"
          ]
        }
      ],
      "source": [
        "from google.colab import drive\n",
        "drive.mount('/content/drive')\n",
        "\n",
        "\n",
        "%cd /content/drive/MyDrive/CS 159 Project"
      ]
    },
    {
      "cell_type": "code",
      "execution_count": 5,
      "metadata": {
        "id": "kSPVMZRAipBm"
      },
      "outputs": [],
      "source": [
        "from factsheet_utils import *\n",
        "from metrics_utils import *\n",
        "from summary_utils import *"
      ]
    },
    {
      "cell_type": "markdown",
      "metadata": {
        "id": "Bicch71NOX8e"
      },
      "source": [
        "User token is required."
      ]
    },
    {
      "cell_type": "code",
      "execution_count": 17,
      "metadata": {
        "id": "o2DXZNaAitRr"
      },
      "outputs": [],
      "source": [
        "client = OpenAI(api_key = input())"
      ]
    },
    {
      "cell_type": "markdown",
      "metadata": {
        "id": "My_PEjY7jnaR"
      },
      "source": [
        "## Input Source Text"
      ]
    },
    {
      "cell_type": "code",
      "execution_count": 23,
      "metadata": {
        "colab": {
          "base_uri": "https://localhost:8080/"
        },
        "id": "ju-IyEYwjRu3",
        "outputId": "b5bb5980-fcb0-4978-8a01-025b5752323a"
      },
      "outputs": [],
      "source": [
        "raw_case = input('Paste raw case file here: ')"
      ]
    },
    {
      "cell_type": "code",
      "execution_count": 24,
      "metadata": {
        "colab": {
          "base_uri": "https://localhost:8080/"
        },
        "id": "Z7FJvILQkURY",
        "outputId": "11047fc2-99e7-4b18-9284-fd0339334f13"
      },
      "outputs": [
        {
          "name": "stdout",
          "output_type": "stream",
          "text": [
            "('Kendall Jenner and her NBA player boyfriend of two years, Devin Booker, are '\n",
            " 'done dating for now, E!, Entertainment Tonight, and Us Weekly report. '\n",
            " 'Sources spoke to all three outlets about what caused the sudden split, which '\n",
            " 'happened less than two weeks ago. Collectively, they made it clear that '\n",
            " 'Jenner and Booker could reconcile but clashed over what they wanted for '\n",
            " 'their future. Jenner initiated the split, E! reported.  devin booker and '\n",
            " 'kendall jenner in portofino NINO//GETTY IMAGES Devin Booker and Kendall '\n",
            " 'Jenner in Portofino for Kourtney Kardashian’s wedding last month. A source '\n",
            " \"told Entertainment Tonight, “Kendall feels like they're on different paths.” \"\n",
            " 'A second source added that “[they] have had discussions about their future, '\n",
            " 'but they are not on the same page.”  A source echoed that to Us Weekly, '\n",
            " 'saying that Jenner and Booker want to “figure out if a future together is '\n",
            " \"what’s meant to be. [They're] tak[ing] this time to focus on themselves.”  \"\n",
            " '“Kourtney’s wedding really put things into perspective,” the source added. '\n",
            " 'The former couple attended it together in one of their most public dates '\n",
            " 'ever. That source noted that Jenner and Booker remain on good terms and are '\n",
            " '“still super amicable and supportive of each other.”  A second source told '\n",
            " 'Us that Booker was seen “cozying up to different women and being flirty '\n",
            " 'throughout the night” during a recent trip to Scottsdale, Arizona days ago, '\n",
            " 'reflecting his newly single status.  E! was given an exact timeline for '\n",
            " 'their breakup: it happened less than two weeks ago, and yes, Jenner ended '\n",
            " 'their relationship for now. “Kendall and Devin hit a rough patch recently '\n",
            " 'and have been split for about a week and a half,” a source close to Jenner '\n",
            " \"said. That source indicated Kardashian's Italy wedding prompted them to soul \"\n",
            " 'search about their own future. “Once they got back, they started to feel '\n",
            " \"like they weren't aligned and realized they have very different \"\n",
            " 'lifestyles.”  Jenner told Booker she “wanted space and time apart,” the '\n",
            " 'source added. “They have been in touch since and do care about one another.” '\n",
            " 'That source said that they do hope to get back together: “They both hope to '\n",
            " 'make it work, but as of now, they are split.”')\n"
          ]
        }
      ],
      "source": [
        "pprint.pprint(raw_case)"
      ]
    },
    {
      "cell_type": "markdown",
      "metadata": {
        "id": "awi_YQ4ztvT0"
      },
      "source": [
        "## Generate Factsheets"
      ]
    },
    {
      "cell_type": "code",
      "execution_count": 25,
      "metadata": {
        "colab": {
          "base_uri": "https://localhost:8080/"
        },
        "id": "ZAHt0bYAlDSe",
        "outputId": "97c5dabd-534e-4f38-d16d-cca78777e5e6"
      },
      "outputs": [
        {
          "name": "stdout",
          "output_type": "stream",
          "text": [
            "Generating fact sheet for each document in source...\n",
            "Combining source fact sheets...\n",
            "```json\n",
            "{\n",
            "    \"Case Information\": \"Kendall Jenner and her NBA player boyfriend of two years, Devin Booker, have recently split after facing differences in their future plans. Jenner initiated the split, citing that they were on different paths and needed to focus on themselves.\",\n",
            "    \"Parties Involved\": \"Kendall Jenner, Devin Booker\",\n",
            "    \"Issue\": \"The main legal question in the case is not specified as there seems to be no legal dispute and it appears to be a personal relationship matter.\",\n",
            "    \"Rule\": \"No specific legal rules or principles mentioned as the case pertains to a personal relationship matter with no legal dispute outlined.\",\n",
            "    \"Application\": \"Given the absence of a legal dispute and the personal nature of the case, there are no legal rules or principles to apply.\",\n",
            "    \"Conclusion\": \"The outcome of the split between Kendall Jenner and Devin Booker is that they are currently not together. Both parties are taking time apart to evaluate their relationship, with a potential for reconciliation in the future. Despite Devin Booker being seen being flirty with other women post-breakup, Kendall Jenner expressed a need for space but remains on good terms with Booker.\"\n",
            "}\n",
            "```  \n"
          ]
        }
      ],
      "source": [
        "# Break source up into segments for processing\n",
        "print('Generating fact sheet for each document in source...')\n",
        "source = break_text(raw_case)\n",
        "source_responses = []\n",
        "for s in source:\n",
        "  source_responses.append(generate_fact_sheet(s, client, verbose=False))\n",
        "\n",
        "# combine source responses\n",
        "print('Combining source fact sheets...')\n",
        "source_sheet = combine_fact_sheets(source_responses, client, verbose=False)\n",
        "print(source_sheet)"
      ]
    },
    {
      "cell_type": "markdown",
      "metadata": {
        "id": "gLdGNv44tzWc"
      },
      "source": [
        "## Generate Summary"
      ]
    },
    {
      "cell_type": "markdown",
      "metadata": {
        "id": "sTGMWwJKkFCG"
      },
      "source": [
        "We can generate summaries now with Chain of Density Prompting. The user can adjust parameters such as approximate length of summary output (using the `num_words` parameter) and desired audience (using the `initial_prompt` parameter)."
      ]
    },
    {
      "cell_type": "code",
      "execution_count": 26,
      "metadata": {
        "colab": {
          "base_uri": "https://localhost:8080/"
        },
        "id": "3w_S4pd4veB9",
        "outputId": "6f763a58-a800-499c-f4e4-dd9df65c9af1"
      },
      "outputs": [
        {
          "name": "stdout",
          "output_type": "stream",
          "text": [
            "('In the court case involving Kendall Jenner and Devin Booker, the split arose '\n",
            " 'due to conflicting future aspirations, prompting Jenner to end the '\n",
            " 'relationship, emphasizing individual growth. The legal aspect remains '\n",
            " 'absent, with no specific legal dispute outlined, framing the issue as '\n",
            " 'personal. Jenner and Booker are presently separated, utilizing this time for '\n",
            " \"introspection, implying a possible reunion. Despite Booker's interactions \"\n",
            " 'with other women post-breakup, Jenner maintains a cordial relationship while '\n",
            " \"seeking space. The court's decision reflects the personal nature of the \"\n",
            " 'case, emphasizing individual paths over legal complexities, leading to their '\n",
            " 'current separation. Both parties are exploring the viability of their bond, '\n",
            " 'showing potential for reconciliation amidst their personal evaluations.')\n"
          ]
        }
      ],
      "source": [
        "num_words = input('Number of words (Tiny - 25, Short - 130, Long - 650): ')\n",
        "inital_prompt = \"Summarize the factsheet so that it is understandable to the general public. Refer to the case by official name (partyX v. partyY).\"\n",
        "responses = chain_of_density_prompting(source_sheet, inital_prompt, client, ground_truth=None, num_words=int(num_words))\n",
        "pprint.pprint(responses[-1][0])"
      ]
    }
  ],
  "metadata": {
    "colab": {
      "provenance": []
    },
    "kernelspec": {
      "display_name": "Python 3",
      "name": "python3"
    },
    "language_info": {
      "codemirror_mode": {
        "name": "ipython",
        "version": 3
      },
      "file_extension": ".py",
      "mimetype": "text/x-python",
      "name": "python",
      "nbconvert_exporter": "python",
      "pygments_lexer": "ipython3",
      "version": "3.12.4"
    }
  },
  "nbformat": 4,
  "nbformat_minor": 0
}
